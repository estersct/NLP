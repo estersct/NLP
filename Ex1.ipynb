{
  "nbformat": 4,
  "nbformat_minor": 0,
  "metadata": {
    "colab": {
      "provenance": []
    },
    "kernelspec": {
      "name": "python3",
      "display_name": "Python 3"
    },
    "language_info": {
      "name": "python"
    }
  },
  "cells": [
    {
      "cell_type": "code",
      "source": [
        "#Import libraries\n",
        "import urllib.request\n",
        "from math import log\n",
        "import re\n",
        "from collections import Counter\n",
        "import pandas as pd\n",
        "import matplotlib.pyplot as plt\n",
        "import seaborn as sns"
      ],
      "metadata": {
        "id": "0xrCsRJq6AQG"
      },
      "execution_count": null,
      "outputs": []
    },
    {
      "cell_type": "code",
      "source": [
        "#Load and process data\n",
        "poems_url_en = 'https://www.gutenberg.org/cache/epub/1322/pg1322.txt'\n",
        "poems_url_ar = 'https://drive.google.com/uc?id=1CUxPJtFK1vqK4epiEN-zwog4JRV4Dn5z'\n",
        "poems_en_text = urllib.request.urlopen(poems_url_en)\n",
        "poems_en_text = poems_en_text.read()\n",
        "poems_en_text = poems_en_text.decode(\"utf-8\")\n",
        "poems_ar_text = urllib.request.urlopen(poems_url_ar)\n",
        "poems_ar_text = poems_ar_text.read()\n",
        "poems_ar_text = poems_ar_text.decode(\"utf-8\")"
      ],
      "metadata": {
        "id": "Mrei864t6BEB"
      },
      "execution_count": null,
      "outputs": []
    },
    {
      "cell_type": "code",
      "source": [
        "#English poems\n",
        "#Tokenization\n",
        "en_tokenized = poems_en_text.split(' ')\n",
        "#Normalize text\n",
        "filter_out = [\"\"]\n",
        "normalized_en = [w.lower() for w in en_tokenized if w not in filter_out]\n",
        "print(len(normalized_en))\n",
        "#Get most frequent words\n",
        "freq_en = Counter(normalized_en)\n",
        "freq_en.most_common(5)"
      ],
      "metadata": {
        "id": "k9ZTJHiS66lC"
      },
      "execution_count": null,
      "outputs": []
    },
    {
      "cell_type": "code",
      "source": [
        "#Zipf's law English\n",
        "sns.set_theme(style=\"darkgrid\")\n",
        "#Create dataframe to match each word to its frequency\n",
        "df_en = pd.DataFrame.from_records(list(dict(Counter(normalized_en)).items()), columns=['word','frequency'])\n",
        "print(df_en)\n",
        "#Sort values to rank them\n",
        "df_en = df_en.sort_values(by=['frequency'], ascending=False)\n",
        "df_en['rank'] = list(range(1, len(df_en) + 1))\n",
        "print(df_en)"
      ],
      "metadata": {
        "id": "k5iPSmqIAH-z"
      },
      "execution_count": null,
      "outputs": []
    },
    {
      "cell_type": "code",
      "source": [
        "#Drop first row from data frame\n",
        "df_en.drop(index=df_en.index[0],\n",
        "        axis=0,\n",
        "        inplace=True)\n",
        "\n",
        "#Re-do rank with new elements\n",
        "df_en['rank'] = list(range(1, len(df_en) + 1))\n",
        "print(df_en)\n",
        "sns.relplot(x=\"rank\", y=\"frequency\", data=df_en);\n",
        "plt.show()\n",
        "plt.close()"
      ],
      "metadata": {
        "id": "1vPtETuqBUnf"
      },
      "execution_count": null,
      "outputs": []
    },
    {
      "cell_type": "code",
      "source": [
        "#Log frequencies\n",
        "df_en['logfreq'] = [log(x+1) for x in df_en['frequency']]\n",
        "print(df_en)\n",
        "sns.relplot(x=\"rank\", y=\"logfreq\", data=df_en);\n",
        "plt.show()\n",
        "plt.close()"
      ],
      "metadata": {
        "id": "rjpFSD4HCBlk"
      },
      "execution_count": null,
      "outputs": []
    },
    {
      "cell_type": "code",
      "source": [
        "#Arabic poems\n",
        "#Tokenization\n",
        "ar_tokenized = poems_ar_text.split(' ')\n",
        "#Normalize text\n",
        "filter_out = [\"\"]\n",
        "normalized_ar = [w for w in ar_tokenized if w not in filter_out and not (\"\\t\\t\\t\\n\" in w)]\n",
        "print(len(normalized_ar))\n",
        "#Get most common words\n",
        "freq_ar = Counter(normalized_ar)\n",
        "freq_ar.most_common(5)"
      ],
      "metadata": {
        "colab": {
          "base_uri": "https://localhost:8080/"
        },
        "id": "E0_q5EmOUPGX",
        "outputId": "ff8fdc2d-d6a9-4c22-99d6-e1c0d472e44d"
      },
      "execution_count": null,
      "outputs": [
        {
          "output_type": "stream",
          "name": "stdout",
          "text": [
            "7345\n"
          ]
        },
        {
          "output_type": "execute_result",
          "data": {
            "text/plain": [
              "[('من', 286), ('في', 267), ('ما', 109), ('على', 55), ('قد', 52)]"
            ]
          },
          "metadata": {},
          "execution_count": 27
        }
      ]
    },
    {
      "cell_type": "code",
      "source": [
        "#Zipf's law Arabic\n",
        "sns.set_theme(style=\"darkgrid\")\n",
        "#Create dataframe to match each word to its frequency\n",
        "df_ar = pd.DataFrame.from_records(list(dict(Counter(normalized_ar)).items()), columns=['word','frequency'])\n",
        "print(df_ar)\n",
        "#Sort values to rank them\n",
        "df_ar = df_ar.sort_values(by=['frequency'], ascending=False)\n",
        "df_ar['rank'] = list(range(1, len(df_ar) + 1))\n",
        "print(df_ar)"
      ],
      "metadata": {
        "id": "qNPpy4TuXVLr"
      },
      "execution_count": null,
      "outputs": []
    },
    {
      "cell_type": "code",
      "source": [
        "#Drop first row from data frame\n",
        "df_ar.drop(index=df_ar.index[0],\n",
        "        axis=0,\n",
        "        inplace=True)\n",
        "\n",
        "#Re-do rank with new elements\n",
        "df_ar['rank'] = list(range(1, len(df_ar) + 1))\n",
        "print(df_ar)\n",
        "sns.relplot(x=\"rank\", y=\"frequency\", data=df_ar);\n",
        "plt.show()\n",
        "plt.close()"
      ],
      "metadata": {
        "id": "ABInILTQXhdm"
      },
      "execution_count": null,
      "outputs": []
    },
    {
      "cell_type": "code",
      "source": [
        "#Log frequencies\n",
        "df_ar['logfreq'] = [log(x+1) for x in df_ar['frequency']]\n",
        "print(df_ar)\n",
        "sns.relplot(x=\"rank\", y=\"logfreq\", data=df_ar);\n",
        "plt.show()\n",
        "plt.close()"
      ],
      "metadata": {
        "id": "IF5Xi4QZXrdt"
      },
      "execution_count": null,
      "outputs": []
    }
  ]
}