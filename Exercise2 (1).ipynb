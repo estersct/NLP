{
  "nbformat": 4,
  "nbformat_minor": 0,
  "metadata": {
    "colab": {
      "provenance": []
    },
    "kernelspec": {
      "name": "python3",
      "display_name": "Python 3"
    },
    "language_info": {
      "name": "python"
    }
  },
  "cells": [
    {
      "cell_type": "code",
      "source": [
        "import torch\n",
        "import torch.nn.functional as F\n",
        "import matplotlib.pyplot as plt\n",
        "import random\n",
        "%matplotlib inline"
      ],
      "metadata": {
        "id": "hI1JgXN2EbYw"
      },
      "execution_count": 1,
      "outputs": []
    },
    {
      "cell_type": "markdown",
      "source": [
        "# General task Exercise 2A:\n",
        "Train a character-level language model to generate names (persons, companies, animals, etc) in your language\n",
        "of choice1\n",
        ". Assess your model’s quality"
      ],
      "metadata": {
        "id": "-5cWXtiOZzTs"
      }
    },
    {
      "cell_type": "code",
      "source": [
        "!wget https://raw.githubusercontent.com/estersct/NLP/main/spanish_names.txt"
      ],
      "metadata": {
        "id": "JWb-93UtEepP"
      },
      "execution_count": null,
      "outputs": []
    },
    {
      "cell_type": "code",
      "execution_count": 3,
      "metadata": {
        "id": "giZ7jowWETBE"
      },
      "outputs": [],
      "source": [
        "# Load the Spanish names from the uploaded file\n",
        "file_path = 'spanish_names.txt'\n",
        "spanish_words = open(file_path, 'r').read().splitlines()\n",
        "\n",
        "# Process the data to create a vocabulary of characters\n",
        "chars = sorted(list(set(''.join(spanish_words) + \"ñáéíóúüÑÁÉÍÓÚÜ\")))\n",
        "stoi = {s: i + 1 for i, s in enumerate(chars)}\n",
        "stoi['.'] = 0  # Adding a special token for end of name\n",
        "itos = {i: s for s, i in stoi.items()}\n",
        "\n",
        "# Build the dataset with the new Spanish names\n",
        "block_size = 3  # context length\n",
        "\n",
        "def build_dataset(words):\n",
        "    X, Y = [], []\n",
        "    for w in words:\n",
        "        context = [0] * block_size\n",
        "        for ch in w + '.':\n",
        "            ix = stoi[ch]\n",
        "            X.append(context)\n",
        "            Y.append(ix)\n",
        "            context = context[1:] + [ix]  # crop and append\n",
        "    X = torch.tensor(X)\n",
        "    Y = torch.tensor(Y)\n",
        "    return X, Y\n",
        "\n",
        "# Splitting the dataset into training, validation, and test sets\n",
        "random.seed(42)\n",
        "random.shuffle(spanish_words)\n",
        "n1 = int(0.8 * len(spanish_words))\n",
        "n2 = int(0.9 * len(spanish_words))\n",
        "\n",
        "Xtr, Ytr = build_dataset(spanish_words[:n1])\n",
        "Xdev, Ydev = build_dataset(spanish_words[n1:n2])\n",
        "Xte, Yte = build_dataset(spanish_words[n2:])\n",
        "\n",
        "# Initialize parameters for the neural network\n",
        "g = torch.Generator().manual_seed(2147483647)  # for reproducibility\n",
        "num_chars = len(stoi)  # Number of unique characters\n",
        "C = torch.randn((num_chars, 10), generator=g)\n",
        "W1 = torch.randn((30, 200), generator=g)\n",
        "b1 = torch.randn(200, generator=g)\n",
        "W2 = torch.randn((200, num_chars), generator=g)\n",
        "b2 = torch.randn(num_chars, generator=g)\n",
        "parameters = [C, W1, b1, W2, b2]\n",
        "\n",
        "for p in parameters:\n",
        "    p.requires_grad = True"
      ]
    },
    {
      "cell_type": "code",
      "source": [
        "lre = torch.linspace(-3, 0, 1000)\n",
        "lrs = 10**lre\n",
        "lri = []\n",
        "lossi = []\n",
        "stepi = []"
      ],
      "metadata": {
        "id": "IpMBFAZmElmk"
      },
      "execution_count": 4,
      "outputs": []
    },
    {
      "cell_type": "code",
      "source": [
        "# Assuming 'input_tensor' is your input tensor\n",
        "input_shape = Xtr.size()\n",
        "print(\"Shape of input tensor:\", input_shape)\n",
        "# Assuming Ytr is your target variable\n",
        "num_classes = torch.unique(Ytr).size(0)\n",
        "print(\"Number of classes in the dataset:\", num_classes)"
      ],
      "metadata": {
        "colab": {
          "base_uri": "https://localhost:8080/"
        },
        "id": "LSkb8QiWEyu8",
        "outputId": "f4b79ab7-9606-430e-fd74-b4837f1655cb"
      },
      "execution_count": 5,
      "outputs": [
        {
          "output_type": "stream",
          "name": "stdout",
          "text": [
            "Shape of input tensor: torch.Size([233991, 3])\n",
            "Number of classes in the dataset: 29\n"
          ]
        }
      ]
    },
    {
      "cell_type": "code",
      "source": [
        "for i in range(200000):\n",
        "\n",
        "  # minibatch construct\n",
        "  ix = torch.randint(0, Xtr.shape[0], (32,))\n",
        "\n",
        "  # forward pass\n",
        "  emb = C[Xtr[ix]] # (32, 3, 2)\n",
        "  h = torch.tanh(emb.view(-1, 30) @ W1 + b1) # (32, 100)\n",
        "  logits = h @ W2 + b2 # (32, 27)\n",
        "  loss = F.cross_entropy(logits, Ytr[ix])\n",
        "  #print(loss.item())\n",
        "\n",
        "  # backward pass\n",
        "  for p in parameters:\n",
        "    p.grad = None\n",
        "  loss.backward()\n",
        "\n",
        "  # update\n",
        "  #lr = lrs[i]\n",
        "  lr = 0.1 if i < 100000 else 0.01\n",
        "  for p in parameters:\n",
        "    p.data += -lr * p.grad\n",
        "\n",
        "  # track stats\n",
        "  #lri.append(lre[i])\n",
        "  stepi.append(i)\n",
        "  lossi.append(loss.log10().item())\n",
        "\n",
        "#print(loss.item())"
      ],
      "metadata": {
        "id": "KazTjPPVE117"
      },
      "execution_count": 6,
      "outputs": []
    },
    {
      "cell_type": "code",
      "source": [
        "plt.plot(stepi, lossi)"
      ],
      "metadata": {
        "colab": {
          "base_uri": "https://localhost:8080/",
          "height": 447
        },
        "id": "W8lVMrgOE4dB",
        "outputId": "e4ace4cd-bea5-4bfe-86e7-d31448d6bc5d"
      },
      "execution_count": 7,
      "outputs": [
        {
          "output_type": "execute_result",
          "data": {
            "text/plain": [
              "[<matplotlib.lines.Line2D at 0x7c00722ce0b0>]"
            ]
          },
          "metadata": {},
          "execution_count": 7
        },
        {
          "output_type": "display_data",
          "data": {
            "text/plain": [
              "<Figure size 640x480 with 1 Axes>"
            ],
            "image/png": "[encoded data removed]"
          },
          "metadata": {}
        }
      ]
    },
    {
      "cell_type": "code",
      "source": [
        "# training loss\n",
        "emb = C[Xtr] # (32, 3, 2)\n",
        "h = torch.tanh(emb.view(-1, 30) @ W1 + b1) # (32, 100)\n",
        "logits = h @ W2 + b2 # (32, 27)\n",
        "loss = F.cross_entropy(logits, Ytr)\n",
        "loss"
      ],
      "metadata": {
        "colab": {
          "base_uri": "https://localhost:8080/"
        },
        "id": "j-PsHy1OFmxG",
        "outputId": "85eca820-f59b-43c6-cd3f-d25af8c42975"
      },
      "execution_count": 8,
      "outputs": [
        {
          "output_type": "execute_result",
          "data": {
            "text/plain": [
              "tensor(1.4679, grad_fn=<NllLossBackward0>)"
            ]
          },
          "metadata": {},
          "execution_count": 8
        }
      ]
    },
    {
      "cell_type": "code",
      "source": [
        "# validation loss\n",
        "emb = C[Xdev] # (32, 3, 2)\n",
        "h = torch.tanh(emb.view(-1, 30) @ W1 + b1) # (32, 100)\n",
        "logits = h @ W2 + b2 # (32, 27)\n",
        "loss = F.cross_entropy(logits, Ydev)\n",
        "loss"
      ],
      "metadata": {
        "colab": {
          "base_uri": "https://localhost:8080/"
        },
        "id": "CAjzsMu4Fngd",
        "outputId": "cecf6fbd-9ae0-4cf5-dafe-52bbe3831ed4"
      },
      "execution_count": 9,
      "outputs": [
        {
          "output_type": "execute_result",
          "data": {
            "text/plain": [
              "tensor(1.5318, grad_fn=<NllLossBackward0>)"
            ]
          },
          "metadata": {},
          "execution_count": 9
        }
      ]
    },
    {
      "cell_type": "code",
      "source": [
        "# test loss\n",
        "emb = C[Xte] # (32, 3, 2)\n",
        "h = torch.tanh(emb.view(-1, 30) @ W1 + b1) # (32, 100)\n",
        "logits = h @ W2 + b2 # (32, 27)\n",
        "loss = F.cross_entropy(logits, Yte)\n",
        "loss"
      ],
      "metadata": {
        "colab": {
          "base_uri": "https://localhost:8080/"
        },
        "id": "fAu-434SFpNk",
        "outputId": "c39d1ed0-b89a-4168-a650-46f1a1af7620"
      },
      "execution_count": 10,
      "outputs": [
        {
          "output_type": "execute_result",
          "data": {
            "text/plain": [
              "tensor(1.5169, grad_fn=<NllLossBackward0>)"
            ]
          },
          "metadata": {},
          "execution_count": 10
        }
      ]
    },
    {
      "cell_type": "code",
      "source": [
        "# sample from the model\n",
        "g = torch.Generator().manual_seed(2147483647 + 10)\n",
        "\n",
        "for _ in range(20):\n",
        "\n",
        "    out = []\n",
        "    context = [0] * block_size # initialize with all ...\n",
        "    while True:\n",
        "      emb = C[torch.tensor([context])] # (1,block_size,d)\n",
        "      h = torch.tanh(emb.view(1, -1) @ W1 + b1)\n",
        "      logits = h @ W2 + b2\n",
        "      probs = F.softmax(logits, dim=1)\n",
        "      ix = torch.multinomial(probs, num_samples=1, generator=g).item()\n",
        "      context = context[1:] + [ix]\n",
        "      out.append(ix)\n",
        "      if ix == 0:\n",
        "        break\n",
        "\n",
        "    print(''.join(itos[i] for i in out))"
      ],
      "metadata": {
        "id": "pOECypQcFuQY",
        "colab": {
          "base_uri": "https://localhost:8080/"
        },
        "outputId": "216cb708-c735-4a02-b61e-3a5282f835ea"
      },
      "execution_count": 11,
      "outputs": [
        {
          "output_type": "stream",
          "name": "stdout",
          "text": [
            "CRISTIKA MARICIA.\n",
            "BALINA.\n",
            "STEFA.\n",
            "ANABELYS.\n",
            "MONA BERNACIONELLA JOSEFANIA VALLENA.\n",
            "AMARIA ALMA BELA.\n",
            "VIENA YAIZABETH.\n",
            "MONA.\n",
            "ROSA ASMINESBA.\n",
            "VEROSA.\n",
            "CINTIA HELODISSA.\n",
            "FATIA EWA.\n",
            "SOFIA IZABETH.\n",
            "LIA.\n",
            "ROSA.\n",
            "CIMONINDY VALEXIN.\n",
            "MARIANA VANDREA VANA.\n",
            "PAULA BEL.\n",
            "GZDITH.\n",
            "VUTINA.\n"
          ]
        }
      ]
    },
    {
      "cell_type": "markdown",
      "source": [
        "# Specific task 2A-I: Multiple models; multiple languages\n",
        "Pick a second language. Build a second character-level model for this language and assess its quality."
      ],
      "metadata": {
        "id": "1cVfzCCKZ6H6"
      }
    },
    {
      "cell_type": "code",
      "source": [
        "!wget https://raw.githubusercontent.com/estersct/NLP/main/french_names.txt"
      ],
      "metadata": {
        "id": "t5AWWP0JIITZ"
      },
      "execution_count": null,
      "outputs": []
    },
    {
      "cell_type": "code",
      "source": [
        "# Load the French names from the uploaded file\n",
        "french_file_path = 'french_names.txt'\n",
        "french_words = open(french_file_path, 'r', encoding='ISO-8859-1').read().splitlines()\n",
        "\n",
        "# Process the data to create a vocabulary of characters\n",
        "# Including French-specific characters\n",
        "french_chars = sorted(list(set(''.join(french_words) + \"àâäæçéèêëîïôœùûüÿÀÂÄÆÇÉÈÊËÎÏÔŒÙÛÜŸ\")))\n",
        "stoi_french = {s: i + 1 for i, s in enumerate(french_chars)}\n",
        "stoi_french['.'] = 0  # Adding a special token for end of name\n",
        "itos_french = {i: s for s, i in stoi_french.items()}"
      ],
      "metadata": {
        "id": "8VfwC2N_JUWH"
      },
      "execution_count": 13,
      "outputs": []
    },
    {
      "cell_type": "code",
      "source": [
        "# Build the dataset with the new French names\n",
        "block_size = 3  # context length\n",
        "\n",
        "def build_dataset(french_words):\n",
        "    X, Y = [], []\n",
        "    for w in french_words:\n",
        "        context = [0] * block_size\n",
        "        for ch in w + '.':\n",
        "            ix = stoi_french[ch]\n",
        "            X.append(context)\n",
        "            Y.append(ix)\n",
        "            context = context[1:] + [ix]  # crop and append\n",
        "    X = torch.tensor(X)\n",
        "    Y = torch.tensor(Y)\n",
        "    return X, Y\n",
        "\n",
        "# Splitting the dataset into training, validation, and test sets\n",
        "random.seed(42)\n",
        "random.shuffle(french_words)\n",
        "n1 = int(0.8 * len(french_words))\n",
        "n2 = int(0.9 * len(french_words))\n",
        "\n",
        "Xtr_french, Ytr_french = build_dataset(french_words[:n1])\n",
        "Xdev_french, Ydev_french = build_dataset(french_words[n1:n2])\n",
        "Xte_french, Yte_french = build_dataset(french_words[n2:])\n",
        "\n",
        "# Step 4: Initialize parameters for the neural network modifying weights and biases\n",
        "g = torch.Generator().manual_seed(2147483647)  # for reproducibility\n",
        "num_french_chars = len(stoi_french)  # Number of unique characters\n",
        "C = torch.randn((num_french_chars, 10), generator=g)\n",
        "W1 = torch.randn((30, 50), generator=g)\n",
        "b1 = torch.randn(50, generator=g)\n",
        "W2 = torch.randn((50, num_french_chars), generator=g)\n",
        "b2 = torch.randn(num_french_chars, generator=g)\n",
        "parameters = [C, W1, b1, W2, b2]\n",
        "\n",
        "for p in parameters :\n",
        "    p.requires_grad = True"
      ],
      "metadata": {
        "id": "j9B41pCnKCdr"
      },
      "execution_count": 14,
      "outputs": []
    },
    {
      "cell_type": "code",
      "source": [
        "lre = torch.linspace(-3, 0, 1000)\n",
        "lrs = 10**lre\n",
        "lri = []\n",
        "lossi = []\n",
        "stepi = []"
      ],
      "metadata": {
        "id": "CcbkvtCMKyu3"
      },
      "execution_count": 15,
      "outputs": []
    },
    {
      "cell_type": "code",
      "source": [
        "# Assuming 'input_tensor' is your input tensor\n",
        "input_shape = Xtr_french.size()\n",
        "print(\"Shape of input tensor:\", input_shape)\n",
        "# Assuming Ytr is your target variable\n",
        "num_classes = torch.unique(Ytr_french).size(0)\n",
        "print(\"Number of classes in the dataset:\", num_classes)"
      ],
      "metadata": {
        "colab": {
          "base_uri": "https://localhost:8080/"
        },
        "id": "j4RLSR7iK3wy",
        "outputId": "3a339610-715b-47a9-d2e0-27ba8d65a832"
      },
      "execution_count": 16,
      "outputs": [
        {
          "output_type": "stream",
          "name": "stdout",
          "text": [
            "Shape of input tensor: torch.Size([64984, 3])\n",
            "Number of classes in the dataset: 37\n"
          ]
        }
      ]
    },
    {
      "cell_type": "code",
      "source": [
        "for i in range(200000):\n",
        "\n",
        "  # minibatch construct (double than the Spanish model)\n",
        "  ix = torch.randint(0, min(Xtr.shape[0], Xtr_french.shape[0], Ytr_french.shape[0]), (64,))\n",
        "\n",
        "  # forward pass\n",
        "  emb = C[Xtr_french[ix]]\n",
        "  h = torch.tanh(emb.view(-1, 30) @ W1 + b1)\n",
        "  logits = h @ W2 + b2\n",
        "  loss = F.cross_entropy(logits, Ytr_french[ix])\n",
        "  #print(loss.item())\n",
        "\n",
        "  # backward pass\n",
        "  for p in parameters:\n",
        "    p.grad = None\n",
        "  loss.backward()\n",
        "\n",
        "  # update learning rate (decreased)\n",
        "  #lr = lrs[i]\n",
        "  lr_french = 0.05 if i < 100000 else 0.005\n",
        "  for p in parameters :\n",
        "    p.data += -lr * p.grad\n",
        "\n",
        "  # track stats\n",
        "  #lri.append(lre[i])\n",
        "  stepi.append(i)\n",
        "  lossi.append(loss.log10().item())\n",
        "\n",
        "#print(loss.item())"
      ],
      "metadata": {
        "id": "iuf8NK_TLDHA"
      },
      "execution_count": 17,
      "outputs": []
    },
    {
      "cell_type": "code",
      "source": [
        "plt.plot(stepi, lossi)"
      ],
      "metadata": {
        "colab": {
          "base_uri": "https://localhost:8080/",
          "height": 447
        },
        "id": "kaTUojO_LIGe",
        "outputId": "c78e9046-bd65-4a4e-e3ee-548fb99bf2fa"
      },
      "execution_count": 18,
      "outputs": [
        {
          "output_type": "execute_result",
          "data": {
            "text/plain": [
              "[<matplotlib.lines.Line2D at 0x7c00716208e0>]"
            ]
          },
          "metadata": {},
          "execution_count": 18
        },
        {
          "output_type": "display_data",
          "data": {
            "text/plain": [
              "<Figure size 640x480 with 1 Axes>"
            ],
            "image/png": "[encoded data removed]"
          },
          "metadata": {}
        }
      ]
    },
    {
      "cell_type": "code",
      "source": [
        "# training loss\n",
        "emb = C[Xtr_french] # (32, 3, 2)\n",
        "h = torch.tanh(emb.view(-1, 30) @ W1 + b1) # (32, 100)\n",
        "logits = h @ W2 + b2 # (32, 27)\n",
        "loss = F.cross_entropy(logits, Ytr_french)\n",
        "loss"
      ],
      "metadata": {
        "colab": {
          "base_uri": "https://localhost:8080/"
        },
        "id": "q5G3LvXULMjm",
        "outputId": "91560378-73c7-4930-dd7a-ee738da3140a"
      },
      "execution_count": 19,
      "outputs": [
        {
          "output_type": "execute_result",
          "data": {
            "text/plain": [
              "tensor(2.4092, grad_fn=<NllLossBackward0>)"
            ]
          },
          "metadata": {},
          "execution_count": 19
        }
      ]
    },
    {
      "cell_type": "code",
      "source": [
        "# validation loss\n",
        "emb = C[Xdev_french] # (32, 3, 2)\n",
        "h = torch.tanh(emb.view(-1, 30) @ W1 + b1) # (32, 100)\n",
        "logits = h @ W2 + b2 # (32, 27)\n",
        "loss = F.cross_entropy(logits, Ydev_french)\n",
        "loss"
      ],
      "metadata": {
        "colab": {
          "base_uri": "https://localhost:8080/"
        },
        "id": "yajH5AKbLQE2",
        "outputId": "6d4ea7c0-558c-416e-83a3-f030d3fe6336"
      },
      "execution_count": 20,
      "outputs": [
        {
          "output_type": "execute_result",
          "data": {
            "text/plain": [
              "tensor(2.4310, grad_fn=<NllLossBackward0>)"
            ]
          },
          "metadata": {},
          "execution_count": 20
        }
      ]
    },
    {
      "cell_type": "code",
      "source": [
        "# test loss\n",
        "emb = C[Xte_french] # (32, 3, 2)\n",
        "h = torch.tanh(emb.view(-1, 30) @ W1 + b1) # (32, 100)\n",
        "logits = h @ W2 + b2 # (32, 27)\n",
        "loss = F.cross_entropy(logits, Yte_french)\n",
        "loss"
      ],
      "metadata": {
        "colab": {
          "base_uri": "https://localhost:8080/"
        },
        "id": "9-7Bi_X-LTkt",
        "outputId": "b04ecba3-1f34-47f7-d1df-72f621ec8df6"
      },
      "execution_count": 21,
      "outputs": [
        {
          "output_type": "execute_result",
          "data": {
            "text/plain": [
              "tensor(2.4253, grad_fn=<NllLossBackward0>)"
            ]
          },
          "metadata": {},
          "execution_count": 21
        }
      ]
    },
    {
      "cell_type": "code",
      "source": [
        "# sample from the model\n",
        "g = torch.Generator().manual_seed(2147483647 + 10)\n",
        "\n",
        "for _ in range(20):\n",
        "\n",
        "    out = []\n",
        "    context = [0] * block_size\n",
        "    while True:\n",
        "      emb = C[torch.tensor([context])]\n",
        "      h = torch.tanh(emb.view(1, -1) @ W1 + b1)\n",
        "      logits = h @ W2 + b2\n",
        "      probs = F.softmax(logits, dim=1)\n",
        "      ix = torch.multinomial(probs, num_samples=1, generator=g).item()\n",
        "      context = context[1:] + [ix]\n",
        "      out.append(ix)\n",
        "      if ix == 0:\n",
        "        break\n",
        "\n",
        "    print(''.join(itos_french[i] for i in out))"
      ],
      "metadata": {
        "id": "6_zLp6p3Lb3m",
        "colab": {
          "base_uri": "https://localhost:8080/"
        },
        "outputId": "9206c45b-61d3-48a1-b304-049e923acb8f"
      },
      "execution_count": 22,
      "outputs": [
        {
          "output_type": "stream",
          "name": "stdout",
          "text": [
            "chellaco (1).\n",
            "jald.\n",
            ".\n",
            "hoyle.\n",
            "lalmi.\n",
            "eaf.\n",
            "ber.\n",
            "stina.\n",
            "erb.\n",
            "kerzo.\n",
            "efrie.\n",
            "isilie.\n",
            "noh.\n",
            "afolacilann.\n",
            "deiphile.\n",
            "naphoris.\n",
            "auth.\n",
            "jasagnelleera.\n",
            "zus.\n",
            "lus.\n"
          ]
        }
      ]
    },
    {
      "cell_type": "markdown",
      "source": [
        "Then\n",
        "assess your first model on the task of generating names for the second language, and vice-versa."
      ],
      "metadata": {
        "id": "X2oEHVA9aFvq"
      }
    },
    {
      "cell_type": "code",
      "source": [
        "# French on Spanish model\n",
        "for i in range(200000):\n",
        "\n",
        "  # minibatch construct\n",
        "  ix = torch.randint(0, Xtr_french.shape[0], (32,))\n",
        "\n",
        "  # forward pass\n",
        "  emb = C[Xtr_french[ix]] # (32, 3, 2)\n",
        "  h = torch.tanh(emb.view(-1, 30) @ W1 + b1) # (32, 100)\n",
        "  logits = h @ W2 + b2 # (32, 27)\n",
        "  loss = F.cross_entropy(logits, Ytr_french[ix])\n",
        "  #print(loss.item())\n",
        "\n",
        "  # backward pass\n",
        "  for p in parameters:\n",
        "    p.grad = None\n",
        "  loss.backward()\n",
        "\n",
        "  # update\n",
        "  #lr = lrs[i]\n",
        "  lr = 0.1 if i < 100000 else 0.01\n",
        "  for p in parameters:\n",
        "    p.data += -lr * p.grad\n",
        "\n",
        "  # track stats\n",
        "  #lri.append(lre[i])\n",
        "  stepi.append(i)\n",
        "  lossi.append(loss.log10().item())\n",
        "\n",
        "#print(loss.item())"
      ],
      "metadata": {
        "id": "xOHxyk5nwwds"
      },
      "execution_count": 23,
      "outputs": []
    },
    {
      "cell_type": "code",
      "source": [
        "plt.plot(stepi, lossi)"
      ],
      "metadata": {
        "id": "fTWXdPnXw0_9",
        "colab": {
          "base_uri": "https://localhost:8080/",
          "height": 447
        },
        "outputId": "e1d206c6-520d-47ae-88c5-d101b8bb20c8"
      },
      "execution_count": 24,
      "outputs": [
        {
          "output_type": "execute_result",
          "data": {
            "text/plain": [
              "[<matplotlib.lines.Line2D at 0x7c005dc42e90>]"
            ]
          },
          "metadata": {},
          "execution_count": 24
        },
        {
          "output_type": "display_data",
          "data": {
            "text/plain": [
              "<Figure size 640x480 with 1 Axes>"
            ],
            "image/png": "[encoded data removed]"
          },
          "metadata": {}
        }
      ]
    },
    {
      "cell_type": "code",
      "source": [
        "# training loss\n",
        "emb = C[Xtr_french] # (32, 3, 2)\n",
        "h = torch.tanh(emb.view(-1, 30) @ W1 + b1) # (32, 100)\n",
        "logits = h @ W2 + b2 # (32, 27)\n",
        "loss = F.cross_entropy(logits, Ytr_french)\n",
        "loss"
      ],
      "metadata": {
        "colab": {
          "base_uri": "https://localhost:8080/"
        },
        "id": "SsKXEPO4yntX",
        "outputId": "47aad5e6-8cd9-4c48-d03a-deca2689a437"
      },
      "execution_count": 25,
      "outputs": [
        {
          "output_type": "execute_result",
          "data": {
            "text/plain": [
              "tensor(2.3251, grad_fn=<NllLossBackward0>)"
            ]
          },
          "metadata": {},
          "execution_count": 25
        }
      ]
    },
    {
      "cell_type": "code",
      "source": [
        "# validation loss\n",
        "emb = C[Xdev_french] # (32, 3, 2)\n",
        "h = torch.tanh(emb.view(-1, 30) @ W1 + b1) # (32, 100)\n",
        "logits = h @ W2 + b2 # (32, 27)\n",
        "loss = F.cross_entropy(logits, Ydev_french)\n",
        "loss"
      ],
      "metadata": {
        "colab": {
          "base_uri": "https://localhost:8080/"
        },
        "id": "ujCl-zSiyoWS",
        "outputId": "10c32338-4429-4cda-bf62-c80b309740e4"
      },
      "execution_count": 26,
      "outputs": [
        {
          "output_type": "execute_result",
          "data": {
            "text/plain": [
              "tensor(2.3730, grad_fn=<NllLossBackward0>)"
            ]
          },
          "metadata": {},
          "execution_count": 26
        }
      ]
    },
    {
      "cell_type": "code",
      "source": [
        "# test loss\n",
        "emb = C[Xte_french] # (32, 3, 2)\n",
        "h = torch.tanh(emb.view(-1, 30) @ W1 + b1) # (32, 100)\n",
        "logits = h @ W2 + b2 # (32, 27)\n",
        "loss = F.cross_entropy(logits, Yte_french)\n",
        "loss"
      ],
      "metadata": {
        "colab": {
          "base_uri": "https://localhost:8080/"
        },
        "id": "MbNWfh8MysI6",
        "outputId": "2151bad3-4a1d-400e-f2a0-dabbb5e35c7b"
      },
      "execution_count": 27,
      "outputs": [
        {
          "output_type": "execute_result",
          "data": {
            "text/plain": [
              "tensor(2.3835, grad_fn=<NllLossBackward0>)"
            ]
          },
          "metadata": {},
          "execution_count": 27
        }
      ]
    },
    {
      "cell_type": "code",
      "source": [
        "# sample from the model\n",
        "g = torch.Generator().manual_seed(2147483647 + 10)\n",
        "\n",
        "for _ in range(20):\n",
        "\n",
        "    out = []\n",
        "    context = [0] * block_size # initialize with all ...\n",
        "    while True:\n",
        "      emb = C[torch.tensor([context])] # (1,block_size,d)\n",
        "      h = torch.tanh(emb.view(1, -1) @ W1 + b1)\n",
        "      logits = h @ W2 + b2\n",
        "      probs = F.softmax(logits, dim=1)\n",
        "      ix = torch.multinomial(probs, num_samples=1, generator=g).item()\n",
        "      context = context[1:] + [ix]\n",
        "      out.append(ix)\n",
        "      if ix == 0:\n",
        "        break\n",
        "\n",
        "    print(''.join(itos_french[i] for i in out))"
      ],
      "metadata": {
        "colab": {
          "base_uri": "https://localhost:8080/"
        },
        "id": "z0lxSuOyXE4Q",
        "outputId": "171c96cf-4eca-4777-d88e-b7e18809ea8f"
      },
      "execution_count": 28,
      "outputs": [
        {
          "output_type": "stream",
          "name": "stdout",
          "text": [
            "chellacodephosh.\n",
            "dardo.\n",
            "bert.\n",
            "lainea.\n",
            "hata.\n",
            "stenan.\n",
            "junne.\n",
            "zorefa.\n",
            ".\n",
            "ainilie.\n",
            "nicharopalieghind.\n",
            "iperleina.\n",
            "cori.\n",
            ".\n",
            "auth.\n",
            "jasagndeleerakuus.\n",
            "lus.\n",
            "solond.\n",
            "gai.\n",
            "ale.\n"
          ]
        }
      ]
    },
    {
      "cell_type": "code",
      "source": [
        "# Spanish on French model\n",
        "g = torch.Generator().manual_seed(2147483647)  # for reproducibility\n",
        "num_chars = len(stoi)  # Number of unique characters\n",
        "C = torch.randn((num_chars, 10), generator=g)\n",
        "W1 = torch.randn((30, 50), generator=g)\n",
        "b1 = torch.randn(50, generator=g)\n",
        "W2 = torch.randn((50, num_chars), generator=g)\n",
        "b2 = torch.randn(num_chars, generator=g)\n",
        "parameters = [C, W1, b1, W2, b2]\n",
        "\n",
        "for p in parameters :\n",
        "    p.requires_grad = True\n",
        "\n",
        "lre = torch.linspace(-3, 0, 1000)\n",
        "lrs = 10**lre\n",
        "lri = []\n",
        "lossi = []\n",
        "stepi = []"
      ],
      "metadata": {
        "id": "ayZajf7YhFqC"
      },
      "execution_count": 29,
      "outputs": []
    },
    {
      "cell_type": "code",
      "source": [
        "for i in range(200000):\n",
        "\n",
        "  # minibatch construct\n",
        "  ix = torch.randint(0, min(Xtr.shape[0], Ytr.shape[0]), (64,))\n",
        "\n",
        "  # forward pass\n",
        "  emb = C[Xtr[ix]]\n",
        "  h = torch.tanh(emb.view(-1, 30) @ W1 + b1)\n",
        "  logits = h @ W2 + b2\n",
        "  loss = F.cross_entropy(logits, Ytr[ix])\n",
        "  #print(loss.item())\n",
        "\n",
        "  # backward pass\n",
        "  for p in parameters:\n",
        "    p.grad = None\n",
        "  loss.backward()\n",
        "\n",
        "  # update\n",
        "  #lr = lrs[i]\n",
        "  lr = 0.05 if i < 100000 else 0.005\n",
        "  for p in parameters :\n",
        "    p.data += -lr * p.grad\n",
        "\n",
        "  # track stats\n",
        "  #lri.append(lre[i])\n",
        "  stepi.append(i)\n",
        "  lossi.append(loss.log10().item())\n",
        "\n",
        "#print(loss.item())"
      ],
      "metadata": {
        "id": "JaqlX28ShHwB"
      },
      "execution_count": 30,
      "outputs": []
    },
    {
      "cell_type": "code",
      "source": [
        "plt.plot(stepi, lossi)"
      ],
      "metadata": {
        "colab": {
          "base_uri": "https://localhost:8080/",
          "height": 447
        },
        "id": "tnGZdR6gi9hB",
        "outputId": "217d7b17-e03f-4871-b92e-5524b814ccc3"
      },
      "execution_count": 31,
      "outputs": [
        {
          "output_type": "execute_result",
          "data": {
            "text/plain": [
              "[<matplotlib.lines.Line2D at 0x7c0071f51d50>]"
            ]
          },
          "metadata": {},
          "execution_count": 31
        },
        {
          "output_type": "display_data",
          "data": {
            "text/plain": [
              "<Figure size 640x480 with 1 Axes>"
            ],
            "image/png": "[encoded data removed]"
          },
          "metadata": {}
        }
      ]
    },
    {
      "cell_type": "code",
      "source": [
        "# training loss\n",
        "emb = C[Xtr] # (32, 3, 2)\n",
        "h = torch.tanh(emb.view(-1, 30) @ W1 + b1) # (32, 100)\n",
        "logits = h @ W2 + b2 # (32, 27)\n",
        "loss = F.cross_entropy(logits, Ytr)\n",
        "loss"
      ],
      "metadata": {
        "colab": {
          "base_uri": "https://localhost:8080/"
        },
        "id": "CF2y6GXei-XR",
        "outputId": "ecabef0a-9d9b-4bd4-9c0d-5668a603dfc6"
      },
      "execution_count": 32,
      "outputs": [
        {
          "output_type": "execute_result",
          "data": {
            "text/plain": [
              "tensor(1.6809, grad_fn=<NllLossBackward0>)"
            ]
          },
          "metadata": {},
          "execution_count": 32
        }
      ]
    },
    {
      "cell_type": "code",
      "source": [
        "# validation loss\n",
        "emb = C[Xdev] # (32, 3, 2)\n",
        "h = torch.tanh(emb.view(-1, 30) @ W1 + b1) # (32, 100)\n",
        "logits = h @ W2 + b2 # (32, 27)\n",
        "loss = F.cross_entropy(logits, Ydev)\n",
        "loss"
      ],
      "metadata": {
        "colab": {
          "base_uri": "https://localhost:8080/"
        },
        "id": "9OOA-eY3jU_Y",
        "outputId": "7b47373d-b894-4275-c7c2-3c393482dc3a"
      },
      "execution_count": 33,
      "outputs": [
        {
          "output_type": "execute_result",
          "data": {
            "text/plain": [
              "tensor(1.7038, grad_fn=<NllLossBackward0>)"
            ]
          },
          "metadata": {},
          "execution_count": 33
        }
      ]
    },
    {
      "cell_type": "code",
      "source": [
        "# test loss\n",
        "emb = C[Xte] # (32, 3, 2)\n",
        "h = torch.tanh(emb.view(-1, 30) @ W1 + b1) # (32, 100)\n",
        "logits = h @ W2 + b2 # (32, 27)\n",
        "loss = F.cross_entropy(logits, Yte)\n",
        "loss"
      ],
      "metadata": {
        "colab": {
          "base_uri": "https://localhost:8080/"
        },
        "id": "PJdq4vXXjaTm",
        "outputId": "c41d10fa-3f14-4ecb-f220-f7ccc71104bc"
      },
      "execution_count": 34,
      "outputs": [
        {
          "output_type": "execute_result",
          "data": {
            "text/plain": [
              "tensor(1.6867, grad_fn=<NllLossBackward0>)"
            ]
          },
          "metadata": {},
          "execution_count": 34
        }
      ]
    },
    {
      "cell_type": "code",
      "source": [
        "# sample from the model\n",
        "g = torch.Generator().manual_seed(2147483647 + 10)\n",
        "\n",
        "for _ in range(20):\n",
        "\n",
        "    out = []\n",
        "    context = [0] * block_size\n",
        "    while True:\n",
        "      emb = C[torch.tensor([context])]\n",
        "      h = torch.tanh(emb.view(1, -1) @ W1 + b1)\n",
        "      logits = h @ W2 + b2\n",
        "      probs = F.softmax(logits, dim=1)\n",
        "      ix = torch.multinomial(probs, num_samples=1, generator=g).item()\n",
        "      context = context[1:] + [ix]\n",
        "      out.append(ix)\n",
        "      if ix == 0:\n",
        "        break\n",
        "\n",
        "    print(''.join(itos[i] for i in out))"
      ],
      "metadata": {
        "colab": {
          "base_uri": "https://localhost:8080/"
        },
        "id": "UEOCuO9bjfjg",
        "outputId": "e7d48faa-6f65-4422-e251-ab959e698ce1"
      },
      "execution_count": 35,
      "outputs": [
        {
          "output_type": "stream",
          "name": "stdout",
          "text": [
            "CRISTIKA MARTA.\n",
            "TEBA ANNA.\n",
            "CRISA.\n",
            "CHELLY.\n",
            "ANGELINA.\n",
            "JOSEFINA CESCICA MARUN VOCIO.\n",
            "AMARITA.\n",
            "LOQTERESENTINA.\n",
            "YRIA.\n",
            "HUNIA.\n",
            "INDA.\n",
            "NSA MARINET.\n",
            "ANA POSA.\n",
            "CIR.\n",
            "ISA.\n",
            "ZIMILAR RAQUEL IMEN.\n",
            "SUNCY MARISTIL.\n",
            "ALENIA.\n",
            "CIMELINDYNG.\n",
            "DOLIMA.\n"
          ]
        }
      ]
    }
  ]
}