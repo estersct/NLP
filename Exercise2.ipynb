{
  "nbformat": 4,
  "nbformat_minor": 0,
  "metadata": {
    "colab": {
      "provenance": []
    },
    "kernelspec": {
      "name": "python3",
      "display_name": "Python 3"
    },
    "language_info": {
      "name": "python"
    }
  },
  "cells": [
    {
      "cell_type": "code",
      "source": [
        "import torch\n",
        "import torch.nn.functional as F\n",
        "import matplotlib.pyplot as plt\n",
        "import random\n",
        "%matplotlib inline"
      ],
      "metadata": {
        "id": "hI1JgXN2EbYw"
      },
      "execution_count": 83,
      "outputs": []
    },
    {
      "cell_type": "markdown",
      "source": [
        "# General task Exercise 2A:\n",
        "Train a character-level language model to generate names (persons, companies, animals, etc) in your language\n",
        "of choice1\n",
        ". Assess your model’s quality"
      ],
      "metadata": {
        "id": "-5cWXtiOZzTs"
      }
    },
    {
      "cell_type": "code",
      "source": [
        "!wget https://raw.githubusercontent.com/estersct/NLP/main/spanish_names.txt"
      ],
      "metadata": {
        "colab": {
          "base_uri": "https://localhost:8080/"
        },
        "id": "JWb-93UtEepP",
        "outputId": "ac7604bb-50b1-4d19-919d-6a2c7ff3d0e7"
      },
      "execution_count": 84,
      "outputs": [
        {
          "output_type": "stream",
          "name": "stdout",
          "text": [
            "--2024-03-03 00:02:49--  https://raw.githubusercontent.com/estersct/NLP/main/spanish_names.txt\n",
            "Resolving raw.githubusercontent.com (raw.githubusercontent.com)... 185.199.108.133, 185.199.109.133, 185.199.110.133, ...\n",
            "Connecting to raw.githubusercontent.com (raw.githubusercontent.com)|185.199.108.133|:443... connected.\n",
            "HTTP request sent, awaiting response... 200 OK\n",
            "Length: 320945 (313K) [text/plain]\n",
            "Saving to: ‘spanish_names.txt.1’\n",
            "\n",
            "\rspanish_names.txt.1   0%[                    ]       0  --.-KB/s               \rspanish_names.txt.1 100%[===================>] 313.42K  --.-KB/s    in 0.004s  \n",
            "\n",
            "2024-03-03 00:02:49 (77.1 MB/s) - ‘spanish_names.txt.1’ saved [320945/320945]\n",
            "\n"
          ]
        }
      ]
    },
    {
      "cell_type": "code",
      "execution_count": 85,
      "metadata": {
        "id": "giZ7jowWETBE"
      },
      "outputs": [],
      "source": [
        "# Load the Spanish names from the uploaded file\n",
        "file_path = 'spanish_names.txt'\n",
        "spanish_words = open(file_path, 'r').read().splitlines()\n",
        "\n",
        "# Process the data to create a vocabulary of characters\n",
        "chars = sorted(list(set(''.join(spanish_words) + \"ñáéíóúüÑÁÉÍÓÚÜ\")))\n",
        "stoi = {s: i + 1 for i, s in enumerate(chars)}\n",
        "stoi['.'] = 0  # Adding a special token for end of name\n",
        "itos = {i: s for s, i in stoi.items()}\n",
        "\n",
        "# Build the dataset with the new Spanish names\n",
        "block_size = 3  # context length\n",
        "\n",
        "def build_dataset(words):\n",
        "    X, Y = [], []\n",
        "    for w in words:\n",
        "        context = [0] * block_size\n",
        "        for ch in w + '.':\n",
        "            ix = stoi[ch]\n",
        "            X.append(context)\n",
        "            Y.append(ix)\n",
        "            context = context[1:] + [ix]  # crop and append\n",
        "    X = torch.tensor(X)\n",
        "    Y = torch.tensor(Y)\n",
        "    return X, Y\n",
        "\n",
        "# Splitting the dataset into training, validation, and test sets\n",
        "random.seed(42)\n",
        "random.shuffle(spanish_words)\n",
        "n1 = int(0.8 * len(spanish_words))\n",
        "n2 = int(0.9 * len(spanish_words))\n",
        "\n",
        "Xtr, Ytr = build_dataset(spanish_words[:n1])\n",
        "Xdev, Ydev = build_dataset(spanish_words[n1:n2])\n",
        "Xte, Yte = build_dataset(spanish_words[n2:])\n",
        "\n",
        "# Initialize parameters for the neural network\n",
        "g = torch.Generator().manual_seed(2147483647)  # for reproducibility\n",
        "num_chars = len(stoi)  # Number of unique characters\n",
        "C = torch.randn((num_chars, 10), generator=g)\n",
        "W1 = torch.randn((30, 200), generator=g)\n",
        "b1 = torch.randn(200, generator=g)\n",
        "W2 = torch.randn((200, num_chars), generator=g)\n",
        "b2 = torch.randn(num_chars, generator=g)\n",
        "parameters = [C, W1, b1, W2, b2]\n",
        "\n",
        "for p in parameters:\n",
        "    p.requires_grad = True"
      ]
    },
    {
      "cell_type": "code",
      "source": [
        "lre = torch.linspace(-3, 0, 1000)\n",
        "lrs = 10**lre\n",
        "lri = []\n",
        "lossi = []\n",
        "stepi = []"
      ],
      "metadata": {
        "id": "IpMBFAZmElmk"
      },
      "execution_count": 86,
      "outputs": []
    },
    {
      "cell_type": "code",
      "source": [
        "# Assuming 'input_tensor' is your input tensor\n",
        "input_shape = Xtr.size()\n",
        "print(\"Shape of input tensor:\", input_shape)\n",
        "# Assuming Ytr is your target variable\n",
        "num_classes = torch.unique(Ytr).size(0)\n",
        "print(\"Number of classes in the dataset:\", num_classes)"
      ],
      "metadata": {
        "colab": {
          "base_uri": "https://localhost:8080/"
        },
        "id": "LSkb8QiWEyu8",
        "outputId": "3d8638c0-71f6-4c17-a4d8-d5ea270844b8"
      },
      "execution_count": 87,
      "outputs": [
        {
          "output_type": "stream",
          "name": "stdout",
          "text": [
            "Shape of input tensor: torch.Size([233991, 3])\n",
            "Number of classes in the dataset: 29\n"
          ]
        }
      ]
    },
    {
      "cell_type": "code",
      "source": [
        "for i in range(200000):\n",
        "\n",
        "  # minibatch construct\n",
        "  ix = torch.randint(0, Xtr.shape[0], (32,))\n",
        "\n",
        "  # forward pass\n",
        "  emb = C[Xtr[ix]] # (32, 3, 2)\n",
        "  h = torch.tanh(emb.view(-1, 30) @ W1 + b1) # (32, 100)\n",
        "  logits = h @ W2 + b2 # (32, 27)\n",
        "  loss = F.cross_entropy(logits, Ytr[ix])\n",
        "  #print(loss.item())\n",
        "\n",
        "  # backward pass\n",
        "  for p in parameters:\n",
        "    p.grad = None\n",
        "  loss.backward()\n",
        "\n",
        "  # update\n",
        "  #lr = lrs[i]\n",
        "  lr = 0.1 if i < 100000 else 0.01\n",
        "  for p in parameters:\n",
        "    p.data += -lr * p.grad\n",
        "\n",
        "  # track stats\n",
        "  #lri.append(lre[i])\n",
        "  stepi.append(i)\n",
        "  lossi.append(loss.log10().item())\n",
        "\n",
        "#print(loss.item())"
      ],
      "metadata": {
        "id": "KazTjPPVE117"
      },
      "execution_count": 88,
      "outputs": []
    },
    {
      "cell_type": "code",
      "source": [
        "plt.plot(stepi, lossi)"
      ],
      "metadata": {
        "colab": {
          "base_uri": "https://localhost:8080/",
          "height": 447
        },
        "id": "W8lVMrgOE4dB",
        "outputId": "9dca48f9-ce9e-4f2b-cd22-225d6b845f4a"
      },
      "execution_count": 89,
      "outputs": [
        {
          "output_type": "execute_result",
          "data": {
            "text/plain": [
              "[<matplotlib.lines.Line2D at 0x7ba3ec083ca0>]"
            ]
          },
          "metadata": {},
          "execution_count": 89
        },
        {
          "output_type": "display_data",
          "data": {
            "text/plain": [
              "<Figure size 640x480 with 1 Axes>"
            ],
            "image/png": "[encoded data removed]"
          },
          "metadata": {}
        }
      ]
    },
    {
      "cell_type": "code",
      "source": [
        "# training loss\n",
        "emb = C[Xtr] # (32, 3, 2)\n",
        "h = torch.tanh(emb.view(-1, 30) @ W1 + b1) # (32, 100)\n",
        "logits = h @ W2 + b2 # (32, 27)\n",
        "loss = F.cross_entropy(logits, Ytr)\n",
        "loss"
      ],
      "metadata": {
        "colab": {
          "base_uri": "https://localhost:8080/"
        },
        "id": "j-PsHy1OFmxG",
        "outputId": "d43e58a0-b038-4416-8a45-375c4a23da77"
      },
      "execution_count": 90,
      "outputs": [
        {
          "output_type": "execute_result",
          "data": {
            "text/plain": [
              "tensor(1.4787, grad_fn=<NllLossBackward0>)"
            ]
          },
          "metadata": {},
          "execution_count": 90
        }
      ]
    },
    {
      "cell_type": "code",
      "source": [
        "# validation loss\n",
        "emb = C[Xdev] # (32, 3, 2)\n",
        "h = torch.tanh(emb.view(-1, 30) @ W1 + b1) # (32, 100)\n",
        "logits = h @ W2 + b2 # (32, 27)\n",
        "loss = F.cross_entropy(logits, Ydev)\n",
        "loss"
      ],
      "metadata": {
        "colab": {
          "base_uri": "https://localhost:8080/"
        },
        "id": "CAjzsMu4Fngd",
        "outputId": "84cf4b51-a75d-4cb6-9528-8945d84c01ec"
      },
      "execution_count": 91,
      "outputs": [
        {
          "output_type": "execute_result",
          "data": {
            "text/plain": [
              "tensor(1.5425, grad_fn=<NllLossBackward0>)"
            ]
          },
          "metadata": {},
          "execution_count": 91
        }
      ]
    },
    {
      "cell_type": "code",
      "source": [
        "# test loss\n",
        "emb = C[Xte] # (32, 3, 2)\n",
        "h = torch.tanh(emb.view(-1, 30) @ W1 + b1) # (32, 100)\n",
        "logits = h @ W2 + b2 # (32, 27)\n",
        "loss = F.cross_entropy(logits, Yte)\n",
        "loss"
      ],
      "metadata": {
        "colab": {
          "base_uri": "https://localhost:8080/"
        },
        "id": "fAu-434SFpNk",
        "outputId": "55342fc3-bd9a-46ed-a7f6-ac31ee8bc1b9"
      },
      "execution_count": 92,
      "outputs": [
        {
          "output_type": "execute_result",
          "data": {
            "text/plain": [
              "tensor(1.5232, grad_fn=<NllLossBackward0>)"
            ]
          },
          "metadata": {},
          "execution_count": 92
        }
      ]
    },
    {
      "cell_type": "code",
      "source": [
        "# visualize dimensions 0 and 1 of the embedding matrix C for all characters\n",
        "plt.figure(figsize=(8,8))\n",
        "plt.scatter(C[:,0].data, C[:,1].data, s=200)\n",
        "for i in range(C.shape[0]):\n",
        "    plt.text(C[i,0].item(), C[i,1].item(), itos[i], ha=\"center\", va=\"center\", color='white')\n",
        "plt.grid('minor')"
      ],
      "metadata": {
        "colab": {
          "base_uri": "https://localhost:8080/",
          "height": 676
        },
        "id": "QOlwUWGLFrj4",
        "outputId": "dd34abab-4ee7-413e-ccdf-2532d4e9fd28"
      },
      "execution_count": 93,
      "outputs": [
        {
          "output_type": "display_data",
          "data": {
            "text/plain": [
              "<Figure size 800x800 with 1 Axes>"
            ],
            "image/png": "[encoded data removed]"
          },
          "metadata": {}
        }
      ]
    },
    {
      "cell_type": "code",
      "source": [
        "# sample from the model\n",
        "g = torch.Generator().manual_seed(2147483647 + 10)\n",
        "\n",
        "for _ in range(20):\n",
        "\n",
        "    out = []\n",
        "    context = [0] * block_size # initialize with all ...\n",
        "    while True:\n",
        "      emb = C[torch.tensor([context])] # (1,block_size,d)\n",
        "      h = torch.tanh(emb.view(1, -1) @ W1 + b1)\n",
        "      logits = h @ W2 + b2\n",
        "      probs = F.softmax(logits, dim=1)\n",
        "      ix = torch.multinomial(probs, num_samples=1, generator=g).item()\n",
        "      context = context[1:] + [ix]\n",
        "      out.append(ix)\n",
        "      if ix == 0:\n",
        "        break\n",
        "\n",
        "    print(''.join(itos[i] for i in out))"
      ],
      "metadata": {
        "id": "pOECypQcFuQY",
        "colab": {
          "base_uri": "https://localhost:8080/"
        },
        "outputId": "939e10e3-c2ce-4930-846d-ed838b7af25f"
      },
      "execution_count": 94,
      "outputs": [
        {
          "output_type": "stream",
          "name": "stdout",
          "text": [
            "CRISTIAN MONTSERLY.\n",
            "MARIA.\n",
            "CRISA.\n",
            "CHE.\n",
            "JYLA.\n",
            "BAHIMA.\n",
            "JOSEFANNANDRA.\n",
            "CARMEN.\n",
            "VALLENA.\n",
            "AMARITA.\n",
            "LHAFJONPE.\n",
            "FERNACION.\n",
            "AMARIA.\n",
            "NOEMISABEL.\n",
            "ANETBA.\n",
            "ANGELESCINTISA.\n",
            "ZAMILAR ROSA.\n",
            "AIDA MARIA.\n",
            "MIRA.\n",
            "MARIA.\n"
          ]
        }
      ]
    },
    {
      "cell_type": "markdown",
      "source": [
        "# Specific task 2A-I: Multiple models; multiple languages\n",
        "Pick a second language. Build a second character-level model for this language and assess its quality."
      ],
      "metadata": {
        "id": "1cVfzCCKZ6H6"
      }
    },
    {
      "cell_type": "code",
      "source": [
        "!wget https://raw.githubusercontent.com/estersct/NLP/main/french_names.txt"
      ],
      "metadata": {
        "id": "t5AWWP0JIITZ",
        "colab": {
          "base_uri": "https://localhost:8080/"
        },
        "outputId": "fe08557b-fee9-437d-d462-e5b36bf9d4ff"
      },
      "execution_count": 95,
      "outputs": [
        {
          "output_type": "stream",
          "name": "stdout",
          "text": [
            "--2024-03-03 00:06:23--  https://raw.githubusercontent.com/estersct/NLP/main/french_names.txt\n",
            "Resolving raw.githubusercontent.com (raw.githubusercontent.com)... 185.199.108.133, 185.199.109.133, 185.199.110.133, ...\n",
            "Connecting to raw.githubusercontent.com (raw.githubusercontent.com)|185.199.108.133|:443... connected.\n",
            "HTTP request sent, awaiting response... 200 OK\n",
            "Length: 92844 (91K) [text/plain]\n",
            "Saving to: ‘french_names.txt.1’\n",
            "\n",
            "\rfrench_names.txt.1    0%[                    ]       0  --.-KB/s               \rfrench_names.txt.1  100%[===================>]  90.67K  --.-KB/s    in 0.003s  \n",
            "\n",
            "2024-03-03 00:06:23 (30.3 MB/s) - ‘french_names.txt.1’ saved [92844/92844]\n",
            "\n"
          ]
        }
      ]
    },
    {
      "cell_type": "code",
      "source": [
        "# Load the French names from the uploaded file\n",
        "french_file_path = 'french_names.txt'\n",
        "french_words = open(french_file_path, 'r', encoding='ISO-8859-1').read().splitlines()\n",
        "\n",
        "# Process the data to create a vocabulary of characters\n",
        "# Including French-specific characters\n",
        "french_chars = sorted(list(set(''.join(french_words) + \"àâäæçéèêëîïôœùûüÿÀÂÄÆÇÉÈÊËÎÏÔŒÙÛÜŸ\")))\n",
        "stoi_french = {s: i + 1 for i, s in enumerate(french_chars)}\n",
        "stoi_french['.'] = 0  # Adding a special token for end of name\n",
        "itos_french = {i: s for s, i in stoi_french.items()}"
      ],
      "metadata": {
        "id": "8VfwC2N_JUWH"
      },
      "execution_count": 97,
      "outputs": []
    },
    {
      "cell_type": "code",
      "source": [
        "# Build the dataset with the new French names\n",
        "block_size = 3  # context length\n",
        "\n",
        "def build_dataset(french_words):\n",
        "    X, Y = [], []\n",
        "    for w in french_words:\n",
        "        context = [0] * block_size\n",
        "        for ch in w + '.':\n",
        "            ix = stoi_french[ch]\n",
        "            X.append(context)\n",
        "            Y.append(ix)\n",
        "            context = context[1:] + [ix]  # crop and append\n",
        "    X = torch.tensor(X)\n",
        "    Y = torch.tensor(Y)\n",
        "    return X, Y\n",
        "\n",
        "# Splitting the dataset into training, validation, and test sets\n",
        "random.seed(42)\n",
        "random.shuffle(french_words)\n",
        "n1 = int(0.8 * len(french_words))\n",
        "n2 = int(0.9 * len(french_words))\n",
        "\n",
        "Xtr_french, Ytr_french = build_dataset(french_words[:n1])\n",
        "Xdev_french, Ydev_french = build_dataset(french_words[n1:n2])\n",
        "Xte_french, Yte_french = build_dataset(french_words[n2:])\n",
        "\n",
        "# Step 4: Initialize parameters for the neural network modifying weights and biases\n",
        "g = torch.Generator().manual_seed(2147483647)  # for reproducibility\n",
        "num_french_chars = len(stoi_french)  # Number of unique characters\n",
        "C = torch.randn((num_french_chars, 10), generator=g)\n",
        "W1 = torch.randn((30, 50), generator=g)\n",
        "b1 = torch.randn(50, generator=g)\n",
        "W2 = torch.randn((50, num_french_chars), generator=g)\n",
        "b2 = torch.randn(num_french_chars, generator=g)\n",
        "parameters = [C, W1, b1, W2, b2]\n",
        "\n",
        "for p in parameters :\n",
        "    p.requires_grad = True"
      ],
      "metadata": {
        "id": "j9B41pCnKCdr"
      },
      "execution_count": 98,
      "outputs": []
    },
    {
      "cell_type": "code",
      "source": [
        "lre = torch.linspace(-3, 0, 1000)\n",
        "lrs = 10**lre\n",
        "lri = []\n",
        "lossi = []\n",
        "stepi = []"
      ],
      "metadata": {
        "id": "CcbkvtCMKyu3"
      },
      "execution_count": 99,
      "outputs": []
    },
    {
      "cell_type": "code",
      "source": [
        "# Assuming 'input_tensor' is your input tensor\n",
        "input_shape = Xtr_french.size()\n",
        "print(\"Shape of input tensor:\", input_shape)\n",
        "# Assuming Ytr is your target variable\n",
        "num_classes = torch.unique(Ytr_french).size(0)\n",
        "print(\"Number of classes in the dataset:\", num_classes)"
      ],
      "metadata": {
        "colab": {
          "base_uri": "https://localhost:8080/"
        },
        "id": "j4RLSR7iK3wy",
        "outputId": "d1af6b4a-9b5e-4eb3-c913-7ec87d939785"
      },
      "execution_count": 100,
      "outputs": [
        {
          "output_type": "stream",
          "name": "stdout",
          "text": [
            "Shape of input tensor: torch.Size([64984, 3])\n",
            "Number of classes in the dataset: 37\n"
          ]
        }
      ]
    },
    {
      "cell_type": "code",
      "source": [
        "for i in range(200000):\n",
        "\n",
        "  # minibatch construct (double than the Spanish model)\n",
        "  ix = torch.randint(0, min(Xtr.shape[0], Xtr_french.shape[0], Ytr_french.shape[0]), (64,))\n",
        "\n",
        "  # forward pass\n",
        "  emb = C[Xtr_french[ix]]\n",
        "  h = torch.tanh(emb.view(-1, 30) @ W1 + b1)\n",
        "  logits = h @ W2 + b2\n",
        "  loss = F.cross_entropy(logits, Ytr_french[ix])\n",
        "  #print(loss.item())\n",
        "\n",
        "  # backward pass\n",
        "  for p in parameters:\n",
        "    p.grad = None\n",
        "  loss.backward()\n",
        "\n",
        "  # update learning rate (decreased)\n",
        "  #lr = lrs[i]\n",
        "  lr_french = 0.05 if i < 100000 else 0.005\n",
        "  for p in parameters :\n",
        "    p.data += -lr * p.grad\n",
        "\n",
        "  # track stats\n",
        "  #lri.append(lre[i])\n",
        "  stepi.append(i)\n",
        "  lossi.append(loss.log10().item())\n",
        "\n",
        "#print(loss.item())"
      ],
      "metadata": {
        "id": "iuf8NK_TLDHA"
      },
      "execution_count": 101,
      "outputs": []
    },
    {
      "cell_type": "code",
      "source": [
        "plt.plot(stepi, lossi)"
      ],
      "metadata": {
        "colab": {
          "base_uri": "https://localhost:8080/",
          "height": 447
        },
        "id": "kaTUojO_LIGe",
        "outputId": "2cfc6ece-1d67-4ab4-84c9-8be183aee799"
      },
      "execution_count": 102,
      "outputs": [
        {
          "output_type": "execute_result",
          "data": {
            "text/plain": [
              "[<matplotlib.lines.Line2D at 0x7ba3ec67f340>]"
            ]
          },
          "metadata": {},
          "execution_count": 102
        },
        {
          "output_type": "display_data",
          "data": {
            "text/plain": [
              "<Figure size 640x480 with 1 Axes>"
            ],
            "image/png": "[encoded data removed]"
          },
          "metadata": {}
        }
      ]
    },
    {
      "cell_type": "code",
      "source": [
        "# training loss\n",
        "emb = C[Xtr_french] # (32, 3, 2)\n",
        "h = torch.tanh(emb.view(-1, 30) @ W1 + b1) # (32, 100)\n",
        "logits = h @ W2 + b2 # (32, 27)\n",
        "loss = F.cross_entropy(logits, Ytr_french)\n",
        "loss"
      ],
      "metadata": {
        "colab": {
          "base_uri": "https://localhost:8080/"
        },
        "id": "q5G3LvXULMjm",
        "outputId": "fe43ef76-206b-4684-970e-9240348dea4a"
      },
      "execution_count": 103,
      "outputs": [
        {
          "output_type": "execute_result",
          "data": {
            "text/plain": [
              "tensor(2.4018, grad_fn=<NllLossBackward0>)"
            ]
          },
          "metadata": {},
          "execution_count": 103
        }
      ]
    },
    {
      "cell_type": "code",
      "source": [
        "# validation loss\n",
        "emb = C[Xdev_french] # (32, 3, 2)\n",
        "h = torch.tanh(emb.view(-1, 30) @ W1 + b1) # (32, 100)\n",
        "logits = h @ W2 + b2 # (32, 27)\n",
        "loss = F.cross_entropy(logits, Ydev_french)\n",
        "loss"
      ],
      "metadata": {
        "colab": {
          "base_uri": "https://localhost:8080/"
        },
        "id": "yajH5AKbLQE2",
        "outputId": "f11883ab-9cff-49c2-ab98-3515b65c0611"
      },
      "execution_count": 104,
      "outputs": [
        {
          "output_type": "execute_result",
          "data": {
            "text/plain": [
              "tensor(2.4329, grad_fn=<NllLossBackward0>)"
            ]
          },
          "metadata": {},
          "execution_count": 104
        }
      ]
    },
    {
      "cell_type": "code",
      "source": [
        "# test loss\n",
        "emb = C[Xte_french] # (32, 3, 2)\n",
        "h = torch.tanh(emb.view(-1, 30) @ W1 + b1) # (32, 100)\n",
        "logits = h @ W2 + b2 # (32, 27)\n",
        "loss = F.cross_entropy(logits, Yte_french)\n",
        "loss"
      ],
      "metadata": {
        "colab": {
          "base_uri": "https://localhost:8080/"
        },
        "id": "9-7Bi_X-LTkt",
        "outputId": "569b0f33-c8ea-4ef2-9105-cdb020764188"
      },
      "execution_count": 105,
      "outputs": [
        {
          "output_type": "execute_result",
          "data": {
            "text/plain": [
              "tensor(2.4182, grad_fn=<NllLossBackward0>)"
            ]
          },
          "metadata": {},
          "execution_count": 105
        }
      ]
    },
    {
      "cell_type": "code",
      "source": [
        "# visualize dimensions 0 and 1 of the embedding matrix C for all characters\n",
        "plt.figure(figsize=(8,8))\n",
        "plt.scatter(C[:,0].data, C[:,1].data, s=200)\n",
        "for i in range(C.shape[0]):\n",
        "    plt.text(C[i,0].item(), C[i,1].item(), itos_french[i], ha=\"center\", va=\"center\", color='white')\n",
        "plt.grid('minor')"
      ],
      "metadata": {
        "colab": {
          "base_uri": "https://localhost:8080/",
          "height": 676
        },
        "id": "YFpG5O4lLYfy",
        "outputId": "bd0daf97-53dc-415f-a23c-887a61ce9d56"
      },
      "execution_count": 106,
      "outputs": [
        {
          "output_type": "display_data",
          "data": {
            "text/plain": [
              "<Figure size 800x800 with 1 Axes>"
            ],
            "image/png": "[encoded data removed]"
          },
          "metadata": {}
        }
      ]
    },
    {
      "cell_type": "code",
      "source": [
        "# sample from the model\n",
        "g = torch.Generator().manual_seed(2147483647 + 10)\n",
        "\n",
        "for _ in range(20):\n",
        "\n",
        "    out = []\n",
        "    context = [0] * block_size\n",
        "    while True:\n",
        "      emb = C[torch.tensor([context])]\n",
        "      h = torch.tanh(emb.view(1, -1) @ W1 + b1)\n",
        "      logits = h @ W2 + b2\n",
        "      probs = F.softmax(logits, dim=1)\n",
        "      ix = torch.multinomial(probs, num_samples=1, generator=g).item()\n",
        "      context = context[1:] + [ix]\n",
        "      out.append(ix)\n",
        "      if ix == 0:\n",
        "        break\n",
        "\n",
        "    print(''.join(itos_french[i] for i in out))"
      ],
      "metadata": {
        "id": "6_zLp6p3Lb3m",
        "colab": {
          "base_uri": "https://localhost:8080/"
        },
        "outputId": "27b86b89-034b-4f97-afd9-8812aed89cb7"
      },
      "execution_count": 107,
      "outputs": [
        {
          "output_type": "stream",
          "name": "stdout",
          "text": [
            "cherlaco.\n",
            "perphill.\n",
            ".\n",
            "hobint.\n",
            "johia.\n",
            "afhata.\n",
            "stina.\n",
            "ryb.\n",
            "kerzonefa.\n",
            ".\n",
            "alanyse.\n",
            "nonda.\n",
            "jaylievis.\n",
            "deiphale.\n",
            "nan.\n",
            "tol.\n",
            "adalemerongide.\n",
            "kerakeus.\n",
            "lus.\n",
            "solend.\n"
          ]
        }
      ]
    },
    {
      "cell_type": "markdown",
      "source": [
        "Then\n",
        "assess your first model on the task of generating names for the second language, and vice-versa."
      ],
      "metadata": {
        "id": "X2oEHVA9aFvq"
      }
    },
    {
      "cell_type": "code",
      "source": [
        "# French on Spanish model\n",
        "for i in range(200000):\n",
        "\n",
        "  # minibatch construct\n",
        "  ix = torch.randint(0, Xtr_french.shape[0], (32,))\n",
        "\n",
        "  # forward pass\n",
        "  emb = C[Xtr_french[ix]] # (32, 3, 2)\n",
        "  h = torch.tanh(emb.view(-1, 30) @ W1 + b1) # (32, 100)\n",
        "  logits = h @ W2 + b2 # (32, 27)\n",
        "  loss = F.cross_entropy(logits, Ytr_french[ix])\n",
        "  #print(loss.item())\n",
        "\n",
        "  # backward pass\n",
        "  for p in parameters:\n",
        "    p.grad = None\n",
        "  loss.backward()\n",
        "\n",
        "  # update\n",
        "  #lr = lrs[i]\n",
        "  lr = 0.1 if i < 100000 else 0.01\n",
        "  for p in parameters:\n",
        "    p.data += -lr * p.grad\n",
        "\n",
        "  # track stats\n",
        "  #lri.append(lre[i])\n",
        "  stepi.append(i)\n",
        "  lossi.append(loss.log10().item())\n",
        "\n",
        "#print(loss.item())"
      ],
      "metadata": {
        "id": "xOHxyk5nwwds"
      },
      "execution_count": 108,
      "outputs": []
    },
    {
      "cell_type": "code",
      "source": [
        "plt.plot(stepi, lossi)"
      ],
      "metadata": {
        "id": "fTWXdPnXw0_9",
        "colab": {
          "base_uri": "https://localhost:8080/",
          "height": 447
        },
        "outputId": "39d7e4cd-e5a6-48c1-f31c-665c00a323b9"
      },
      "execution_count": 109,
      "outputs": [
        {
          "output_type": "execute_result",
          "data": {
            "text/plain": [
              "[<matplotlib.lines.Line2D at 0x7ba3bf877040>]"
            ]
          },
          "metadata": {},
          "execution_count": 109
        },
        {
          "output_type": "display_data",
          "data": {
            "text/plain": [
              "<Figure size 640x480 with 1 Axes>"
            ],
            "image/png": "[encoded data removed]"
          },
          "metadata": {}
        }
      ]
    },
    {
      "cell_type": "code",
      "source": [
        "# training loss\n",
        "emb = C[Xtr_french] # (32, 3, 2)\n",
        "h = torch.tanh(emb.view(-1, 30) @ W1 + b1) # (32, 100)\n",
        "logits = h @ W2 + b2 # (32, 27)\n",
        "loss = F.cross_entropy(logits, Ytr_french)\n",
        "loss"
      ],
      "metadata": {
        "colab": {
          "base_uri": "https://localhost:8080/"
        },
        "id": "SsKXEPO4yntX",
        "outputId": "ffc7b97c-00e4-4f75-dbd9-38fe798f081d"
      },
      "execution_count": 110,
      "outputs": [
        {
          "output_type": "execute_result",
          "data": {
            "text/plain": [
              "tensor(2.3169, grad_fn=<NllLossBackward0>)"
            ]
          },
          "metadata": {},
          "execution_count": 110
        }
      ]
    },
    {
      "cell_type": "code",
      "source": [
        "# validation loss\n",
        "emb = C[Xdev_french] # (32, 3, 2)\n",
        "h = torch.tanh(emb.view(-1, 30) @ W1 + b1) # (32, 100)\n",
        "logits = h @ W2 + b2 # (32, 27)\n",
        "loss = F.cross_entropy(logits, Ydev_french)\n",
        "loss"
      ],
      "metadata": {
        "colab": {
          "base_uri": "https://localhost:8080/"
        },
        "id": "ujCl-zSiyoWS",
        "outputId": "fb2a27ca-1268-4b17-d20f-717b3db8145d"
      },
      "execution_count": 111,
      "outputs": [
        {
          "output_type": "execute_result",
          "data": {
            "text/plain": [
              "tensor(2.3790, grad_fn=<NllLossBackward0>)"
            ]
          },
          "metadata": {},
          "execution_count": 111
        }
      ]
    },
    {
      "cell_type": "code",
      "source": [
        "# test loss\n",
        "emb = C[Xte_french] # (32, 3, 2)\n",
        "h = torch.tanh(emb.view(-1, 30) @ W1 + b1) # (32, 100)\n",
        "logits = h @ W2 + b2 # (32, 27)\n",
        "loss = F.cross_entropy(logits, Yte_french)\n",
        "loss"
      ],
      "metadata": {
        "colab": {
          "base_uri": "https://localhost:8080/"
        },
        "id": "MbNWfh8MysI6",
        "outputId": "60d45c0c-2902-4758-97d9-baa090aaf5dc"
      },
      "execution_count": 112,
      "outputs": [
        {
          "output_type": "execute_result",
          "data": {
            "text/plain": [
              "tensor(2.3698, grad_fn=<NllLossBackward0>)"
            ]
          },
          "metadata": {},
          "execution_count": 112
        }
      ]
    },
    {
      "cell_type": "code",
      "source": [
        "# sample from the model\n",
        "g = torch.Generator().manual_seed(2147483647 + 10)\n",
        "\n",
        "for _ in range(20):\n",
        "\n",
        "    out = []\n",
        "    context = [0] * block_size # initialize with all ...\n",
        "    while True:\n",
        "      emb = C[torch.tensor([context])] # (1,block_size,d)\n",
        "      h = torch.tanh(emb.view(1, -1) @ W1 + b1)\n",
        "      logits = h @ W2 + b2\n",
        "      probs = F.softmax(logits, dim=1)\n",
        "      ix = torch.multinomial(probs, num_samples=1, generator=g).item()\n",
        "      context = context[1:] + [ix]\n",
        "      out.append(ix)\n",
        "      if ix == 0:\n",
        "        break\n",
        "\n",
        "    print(''.join(itos_french[i] for i in out))"
      ],
      "metadata": {
        "colab": {
          "base_uri": "https://localhost:8080/"
        },
        "id": "z0lxSuOyXE4Q",
        "outputId": "3cc576ba-ba49-4ed7-f52e-b3e019d14039"
      },
      "execution_count": 113,
      "outputs": [
        {
          "output_type": "stream",
          "name": "stdout",
          "text": [
            "ches.\n",
            "aco.\n",
            "perphild.\n",
            ".\n",
            "hobie.\n",
            "lachi.\n",
            "edi.\n",
            "ber.\n",
            "ste.\n",
            "ani.\n",
            "bristafferd.\n",
            ".\n",
            "alfiegenne.\n",
            "lacolacilans.\n",
            "deiph.\n",
            "leina.\n",
            "coris.\n",
            "auth.\n",
            "jalvyndereerekussolmi.\n",
            "solond.\n"
          ]
        }
      ]
    },
    {
      "cell_type": "code",
      "source": [
        "# Spanish on French model\n",
        "g = torch.Generator().manual_seed(2147483647)  # for reproducibility\n",
        "num_chars = len(stoi)  # Number of unique characters\n",
        "C = torch.randn((num_chars, 10), generator=g)\n",
        "W1 = torch.randn((30, 50), generator=g)\n",
        "b1 = torch.randn(50, generator=g)\n",
        "W2 = torch.randn((50, num_chars), generator=g)\n",
        "b2 = torch.randn(num_chars, generator=g)\n",
        "parameters = [C, W1, b1, W2, b2]\n",
        "\n",
        "for p in parameters :\n",
        "    p.requires_grad = True\n",
        "\n",
        "lre = torch.linspace(-3, 0, 1000)\n",
        "lrs = 10**lre\n",
        "lri = []\n",
        "lossi = []\n",
        "stepi = []"
      ],
      "metadata": {
        "id": "ayZajf7YhFqC"
      },
      "execution_count": 114,
      "outputs": []
    },
    {
      "cell_type": "code",
      "source": [
        "for i in range(200000):\n",
        "\n",
        "  # minibatch construct\n",
        "  ix = torch.randint(0, min(Xtr.shape[0], Ytr.shape[0]), (64,))\n",
        "\n",
        "  # forward pass\n",
        "  emb = C[Xtr[ix]]\n",
        "  h = torch.tanh(emb.view(-1, 30) @ W1 + b1)\n",
        "  logits = h @ W2 + b2\n",
        "  loss = F.cross_entropy(logits, Ytr[ix])\n",
        "  #print(loss.item())\n",
        "\n",
        "  # backward pass\n",
        "  for p in parameters:\n",
        "    p.grad = None\n",
        "  loss.backward()\n",
        "\n",
        "  # update\n",
        "  #lr = lrs[i]\n",
        "  lr = 0.05 if i < 100000 else 0.005\n",
        "  for p in parameters :\n",
        "    p.data += -lr * p.grad\n",
        "\n",
        "  # track stats\n",
        "  #lri.append(lre[i])\n",
        "  stepi.append(i)\n",
        "  lossi.append(loss.log10().item())\n",
        "\n",
        "#print(loss.item())"
      ],
      "metadata": {
        "id": "JaqlX28ShHwB"
      },
      "execution_count": 115,
      "outputs": []
    },
    {
      "cell_type": "code",
      "source": [
        "plt.plot(stepi, lossi)"
      ],
      "metadata": {
        "colab": {
          "base_uri": "https://localhost:8080/",
          "height": 447
        },
        "id": "tnGZdR6gi9hB",
        "outputId": "2fe588c6-8305-42e4-f744-502e00afd0b2"
      },
      "execution_count": 116,
      "outputs": [
        {
          "output_type": "execute_result",
          "data": {
            "text/plain": [
              "[<matplotlib.lines.Line2D at 0x7ba3ebea2170>]"
            ]
          },
          "metadata": {},
          "execution_count": 116
        },
        {
          "output_type": "display_data",
          "data": {
            "text/plain": [
              "<Figure size 640x480 with 1 Axes>"
            ],
            "image/png": "[encoded data removed]"
          },
          "metadata": {}
        }
      ]
    },
    {
      "cell_type": "code",
      "source": [
        "# training loss\n",
        "emb = C[Xtr] # (32, 3, 2)\n",
        "h = torch.tanh(emb.view(-1, 30) @ W1 + b1) # (32, 100)\n",
        "logits = h @ W2 + b2 # (32, 27)\n",
        "loss = F.cross_entropy(logits, Ytr)\n",
        "loss"
      ],
      "metadata": {
        "colab": {
          "base_uri": "https://localhost:8080/"
        },
        "id": "CF2y6GXei-XR",
        "outputId": "a2a46156-03c9-4e66-9255-2c8ba260ad9b"
      },
      "execution_count": 117,
      "outputs": [
        {
          "output_type": "execute_result",
          "data": {
            "text/plain": [
              "tensor(1.6652, grad_fn=<NllLossBackward0>)"
            ]
          },
          "metadata": {},
          "execution_count": 117
        }
      ]
    },
    {
      "cell_type": "code",
      "source": [
        "# validation loss\n",
        "emb = C[Xdev] # (32, 3, 2)\n",
        "h = torch.tanh(emb.view(-1, 30) @ W1 + b1) # (32, 100)\n",
        "logits = h @ W2 + b2 # (32, 27)\n",
        "loss = F.cross_entropy(logits, Ydev)\n",
        "loss"
      ],
      "metadata": {
        "colab": {
          "base_uri": "https://localhost:8080/"
        },
        "id": "9OOA-eY3jU_Y",
        "outputId": "54d1c80d-4aaa-43aa-e836-5a63aade1d22"
      },
      "execution_count": 118,
      "outputs": [
        {
          "output_type": "execute_result",
          "data": {
            "text/plain": [
              "tensor(1.6906, grad_fn=<NllLossBackward0>)"
            ]
          },
          "metadata": {},
          "execution_count": 118
        }
      ]
    },
    {
      "cell_type": "code",
      "source": [
        "# test loss\n",
        "emb = C[Xte] # (32, 3, 2)\n",
        "h = torch.tanh(emb.view(-1, 30) @ W1 + b1) # (32, 100)\n",
        "logits = h @ W2 + b2 # (32, 27)\n",
        "loss = F.cross_entropy(logits, Yte)\n",
        "loss"
      ],
      "metadata": {
        "colab": {
          "base_uri": "https://localhost:8080/"
        },
        "id": "PJdq4vXXjaTm",
        "outputId": "522b8fe4-ca03-4ac7-bd45-6838a31a98c9"
      },
      "execution_count": 119,
      "outputs": [
        {
          "output_type": "execute_result",
          "data": {
            "text/plain": [
              "tensor(1.6683, grad_fn=<NllLossBackward0>)"
            ]
          },
          "metadata": {},
          "execution_count": 119
        }
      ]
    },
    {
      "cell_type": "code",
      "source": [
        "# sample from the model\n",
        "g = torch.Generator().manual_seed(2147483647 + 10)\n",
        "\n",
        "for _ in range(20):\n",
        "\n",
        "    out = []\n",
        "    context = [0] * block_size\n",
        "    while True:\n",
        "      emb = C[torch.tensor([context])]\n",
        "      h = torch.tanh(emb.view(1, -1) @ W1 + b1)\n",
        "      logits = h @ W2 + b2\n",
        "      probs = F.softmax(logits, dim=1)\n",
        "      ix = torch.multinomial(probs, num_samples=1, generator=g).item()\n",
        "      context = context[1:] + [ix]\n",
        "      out.append(ix)\n",
        "      if ix == 0:\n",
        "        break\n",
        "\n",
        "    print(''.join(itos[i] for i in out))"
      ],
      "metadata": {
        "colab": {
          "base_uri": "https://localhost:8080/"
        },
        "id": "UEOCuO9bjfjg",
        "outputId": "d669bfed-8b4f-4d3c-dd31-d3431c8b9124"
      },
      "execution_count": 120,
      "outputs": [
        {
          "output_type": "stream",
          "name": "stdout",
          "text": [
            "CRISTIKE CECICIA.\n",
            "BADORA.\n",
            "ROSA ARIANA YOS.\n",
            "BARABERNGELENA.\n",
            "MARIA.\n",
            "CARMA.\n",
            "NO PUCA.\n",
            "SAMARIA ALMA BELA.\n",
            "VICTORIA.\n",
            "RATMUHANIOVANA MARSIDERABETH POSOROFETITA.\n",
            "ZILDA.\n",
            "BLANDA.\n",
            "AIDA MARIA.\n",
            "MIRA.\n",
            "MARIA.\n",
            "ALRINA.\n",
            "CIMIA.\n",
            "NDYNE.\n",
            "DOLINA.\n",
            "CARONIYI.\n"
          ]
        }
      ]
    }
  ]
}