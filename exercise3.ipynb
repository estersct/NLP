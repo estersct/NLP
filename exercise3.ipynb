{
 "cells": [
  {
   "cell_type": "code",
   "execution_count": 14,
   "id": "32893907-5254-48a4-8a0f-ab1c6cfdd16c",
   "metadata": {
    "execution": {
     "iopub.execute_input": "2024-03-25T16:29:25.320311Z",
     "iopub.status.busy": "2024-03-25T16:29:25.319840Z",
     "iopub.status.idle": "2024-03-25T16:29:31.293811Z",
     "shell.execute_reply": "2024-03-25T16:29:31.292886Z",
     "shell.execute_reply.started": "2024-03-25T16:29:25.320283Z"
    },
    "tags": []
   },
   "outputs": [
    {
     "name": "stderr",
     "output_type": "stream",
     "text": [
      "huggingface/tokenizers: The current process just got forked, after parallelism has already been used. Disabling parallelism to avoid deadlocks...\n",
      "To disable this warning, you can either:\n",
      "\t- Avoid using `tokenizers` before the fork if possible\n",
      "\t- Explicitly set the environment variable TOKENIZERS_PARALLELISM=(true | false)\n"
     ]
    },
    {
     "name": "stdout",
     "output_type": "stream",
     "text": [
      "Requirement already satisfied: transformers in /opt/saturncloud/envs/saturn/lib/python3.10/site-packages (4.39.1)\n",
      "Requirement already satisfied: filelock in /opt/saturncloud/envs/saturn/lib/python3.10/site-packages (from transformers) (3.13.1)\n",
      "Requirement already satisfied: huggingface-hub<1.0,>=0.19.3 in /opt/saturncloud/envs/saturn/lib/python3.10/site-packages (from transformers) (0.22.0)\n",
      "Requirement already satisfied: numpy>=1.17 in /opt/saturncloud/envs/saturn/lib/python3.10/site-packages (from transformers) (1.26.3)\n",
      "Requirement already satisfied: packaging>=20.0 in /opt/saturncloud/envs/saturn/lib/python3.10/site-packages (from transformers) (23.2)\n",
      "Requirement already satisfied: pyyaml>=5.1 in /opt/saturncloud/envs/saturn/lib/python3.10/site-packages (from transformers) (6.0.1)\n",
      "Requirement already satisfied: regex!=2019.12.17 in /opt/saturncloud/envs/saturn/lib/python3.10/site-packages (from transformers) (2023.12.25)\n",
      "Requirement already satisfied: requests in /opt/saturncloud/envs/saturn/lib/python3.10/site-packages (from transformers) (2.31.0)\n",
      "Requirement already satisfied: tokenizers<0.19,>=0.14 in /opt/saturncloud/envs/saturn/lib/python3.10/site-packages (from transformers) (0.15.2)\n",
      "Requirement already satisfied: safetensors>=0.4.1 in /opt/saturncloud/envs/saturn/lib/python3.10/site-packages (from transformers) (0.4.2)\n",
      "Requirement already satisfied: tqdm>=4.27 in /opt/saturncloud/envs/saturn/lib/python3.10/site-packages (from transformers) (4.66.1)\n",
      "Requirement already satisfied: fsspec>=2023.5.0 in /opt/saturncloud/envs/saturn/lib/python3.10/site-packages (from huggingface-hub<1.0,>=0.19.3->transformers) (2023.12.2)\n",
      "Requirement already satisfied: typing-extensions>=3.7.4.3 in /opt/saturncloud/envs/saturn/lib/python3.10/site-packages (from huggingface-hub<1.0,>=0.19.3->transformers) (4.9.0)\n",
      "Requirement already satisfied: charset-normalizer<4,>=2 in /opt/saturncloud/envs/saturn/lib/python3.10/site-packages (from requests->transformers) (2.0.12)\n",
      "Requirement already satisfied: idna<4,>=2.5 in /opt/saturncloud/envs/saturn/lib/python3.10/site-packages (from requests->transformers) (3.6)\n",
      "Requirement already satisfied: urllib3<3,>=1.21.1 in /opt/saturncloud/envs/saturn/lib/python3.10/site-packages (from requests->transformers) (1.26.18)\n",
      "Requirement already satisfied: certifi>=2017.4.17 in /opt/saturncloud/envs/saturn/lib/python3.10/site-packages (from requests->transformers) (2023.11.17)\n"
     ]
    },
    {
     "name": "stderr",
     "output_type": "stream",
     "text": [
      "huggingface/tokenizers: The current process just got forked, after parallelism has already been used. Disabling parallelism to avoid deadlocks...\n",
      "To disable this warning, you can either:\n",
      "\t- Avoid using `tokenizers` before the fork if possible\n",
      "\t- Explicitly set the environment variable TOKENIZERS_PARALLELISM=(true | false)\n"
     ]
    },
    {
     "name": "stdout",
     "output_type": "stream",
     "text": [
      "Requirement already satisfied: datasets in /opt/saturncloud/envs/saturn/lib/python3.10/site-packages (2.18.0)\n",
      "Requirement already satisfied: filelock in /opt/saturncloud/envs/saturn/lib/python3.10/site-packages (from datasets) (3.13.1)\n",
      "Requirement already satisfied: numpy>=1.17 in /opt/saturncloud/envs/saturn/lib/python3.10/site-packages (from datasets) (1.26.3)\n",
      "Requirement already satisfied: pyarrow>=12.0.0 in /opt/saturncloud/envs/saturn/lib/python3.10/site-packages (from datasets) (14.0.2)\n",
      "Requirement already satisfied: pyarrow-hotfix in /opt/saturncloud/envs/saturn/lib/python3.10/site-packages (from datasets) (0.6)\n",
      "Requirement already satisfied: dill<0.3.9,>=0.3.0 in /opt/saturncloud/envs/saturn/lib/python3.10/site-packages (from datasets) (0.3.8)\n",
      "Requirement already satisfied: pandas in /opt/saturncloud/envs/saturn/lib/python3.10/site-packages (from datasets) (1.5.3)\n",
      "Requirement already satisfied: requests>=2.19.0 in /opt/saturncloud/envs/saturn/lib/python3.10/site-packages (from datasets) (2.31.0)\n",
      "Requirement already satisfied: tqdm>=4.62.1 in /opt/saturncloud/envs/saturn/lib/python3.10/site-packages (from datasets) (4.66.1)\n",
      "Requirement already satisfied: xxhash in /opt/saturncloud/envs/saturn/lib/python3.10/site-packages (from datasets) (3.4.1)\n",
      "Requirement already satisfied: multiprocess in /opt/saturncloud/envs/saturn/lib/python3.10/site-packages (from datasets) (0.70.16)\n",
      "Requirement already satisfied: fsspec<=2024.2.0,>=2023.1.0 in /opt/saturncloud/envs/saturn/lib/python3.10/site-packages (from fsspec[http]<=2024.2.0,>=2023.1.0->datasets) (2023.12.2)\n",
      "Requirement already satisfied: aiohttp in /opt/saturncloud/envs/saturn/lib/python3.10/site-packages (from datasets) (3.9.1)\n",
      "Requirement already satisfied: huggingface-hub>=0.19.4 in /opt/saturncloud/envs/saturn/lib/python3.10/site-packages (from datasets) (0.22.0)\n",
      "Requirement already satisfied: packaging in /opt/saturncloud/envs/saturn/lib/python3.10/site-packages (from datasets) (23.2)\n",
      "Requirement already satisfied: pyyaml>=5.1 in /opt/saturncloud/envs/saturn/lib/python3.10/site-packages (from datasets) (6.0.1)\n",
      "Requirement already satisfied: attrs>=17.3.0 in /opt/saturncloud/envs/saturn/lib/python3.10/site-packages (from aiohttp->datasets) (23.2.0)\n",
      "Requirement already satisfied: multidict<7.0,>=4.5 in /opt/saturncloud/envs/saturn/lib/python3.10/site-packages (from aiohttp->datasets) (6.0.4)\n",
      "Requirement already satisfied: yarl<2.0,>=1.0 in /opt/saturncloud/envs/saturn/lib/python3.10/site-packages (from aiohttp->datasets) (1.9.4)\n",
      "Requirement already satisfied: frozenlist>=1.1.1 in /opt/saturncloud/envs/saturn/lib/python3.10/site-packages (from aiohttp->datasets) (1.4.1)\n",
      "Requirement already satisfied: aiosignal>=1.1.2 in /opt/saturncloud/envs/saturn/lib/python3.10/site-packages (from aiohttp->datasets) (1.3.1)\n",
      "Requirement already satisfied: async-timeout<5.0,>=4.0 in /opt/saturncloud/envs/saturn/lib/python3.10/site-packages (from aiohttp->datasets) (4.0.3)\n",
      "Requirement already satisfied: typing-extensions>=3.7.4.3 in /opt/saturncloud/envs/saturn/lib/python3.10/site-packages (from huggingface-hub>=0.19.4->datasets) (4.9.0)\n",
      "Requirement already satisfied: charset-normalizer<4,>=2 in /opt/saturncloud/envs/saturn/lib/python3.10/site-packages (from requests>=2.19.0->datasets) (2.0.12)\n",
      "Requirement already satisfied: idna<4,>=2.5 in /opt/saturncloud/envs/saturn/lib/python3.10/site-packages (from requests>=2.19.0->datasets) (3.6)\n",
      "Requirement already satisfied: urllib3<3,>=1.21.1 in /opt/saturncloud/envs/saturn/lib/python3.10/site-packages (from requests>=2.19.0->datasets) (1.26.18)\n",
      "Requirement already satisfied: certifi>=2017.4.17 in /opt/saturncloud/envs/saturn/lib/python3.10/site-packages (from requests>=2.19.0->datasets) (2023.11.17)\n",
      "Requirement already satisfied: python-dateutil>=2.8.1 in /opt/saturncloud/envs/saturn/lib/python3.10/site-packages (from pandas->datasets) (2.8.2)\n",
      "Requirement already satisfied: pytz>=2020.1 in /opt/saturncloud/envs/saturn/lib/python3.10/site-packages (from pandas->datasets) (2023.3.post1)\n",
      "Requirement already satisfied: six>=1.5 in /opt/saturncloud/envs/saturn/lib/python3.10/site-packages (from python-dateutil>=2.8.1->pandas->datasets) (1.16.0)\n"
     ]
    }
   ],
   "source": [
    "!pip install transformers\n",
    "!pip install datasets\n",
    "from datasets import load_dataset, concatenate_datasets\n",
    "import pandas as pd\n",
    "from transformers import AutoTokenizer, AutoModelForSequenceClassification\n",
    "import torch\n",
    "from torch.nn.functional import softmax"
   ]
  },
  {
   "cell_type": "code",
   "execution_count": 17,
   "id": "15193705-c35c-4356-a10c-0502058d20ae",
   "metadata": {
    "execution": {
     "iopub.execute_input": "2024-03-25T16:30:05.007752Z",
     "iopub.status.busy": "2024-03-25T16:30:05.007292Z",
     "iopub.status.idle": "2024-03-25T16:31:13.649173Z",
     "shell.execute_reply": "2024-03-25T16:31:13.648315Z",
     "shell.execute_reply.started": "2024-03-25T16:30:05.007725Z"
    },
    "tags": []
   },
   "outputs": [
    {
     "name": "stdout",
     "output_type": "stream",
     "text": [
      "     label                                               text  \\\n",
      "0        1  Nemmen li huwa baġit tajjeb, imma nies bħali t...   \n",
      "1        0  Nippremjaw lil min ilu jikser il-liġi snin u j...   \n",
      "2        0  Xi cuc irrid jitfacca b'kritika ta' din ix-xorta.   \n",
      "3        0  Ms. Metzola, ara jekk Ms. Mizzi jkollhiex ċans...   \n",
      "4        1  Naf ċert li int qegħda hemm fejn il-Mulej tkom...   \n",
      "..     ...                                                ...   \n",
      "846      0  Dil-bużżieqa li nefħu qed tisplodi f'wiċċhom m...   \n",
      "847      0  Dan imissu jintbagħat lura minn fejn ġie u ma'...   \n",
      "848      0                   Il-moda tikrih maż-żmien qegħda.   \n",
      "849      0  Aħna familja Laburista kbira u ngħidlek li taħ...   \n",
      "850      0  Tajjeb jidher fuq il-karta. Imma l-fatti jidhr...   \n",
      "\n",
      "     predicted_sentiment  \n",
      "0                      1  \n",
      "1                      0  \n",
      "2                      0  \n",
      "3                      1  \n",
      "4                      1  \n",
      "..                   ...  \n",
      "846                    1  \n",
      "847                    1  \n",
      "848                    1  \n",
      "849                    0  \n",
      "850                    1  \n",
      "\n",
      "[851 rows x 3 columns]\n",
      "Accuracy: 0.42773207990599293\n"
     ]
    }
   ],
   "source": [
    "# Italian model\n",
    "tokenizer = AutoTokenizer.from_pretrained(\"MilaNLProc/feel-it-italian-sentiment\")\n",
    "model_it = AutoModelForSequenceClassification.from_pretrained(\"MilaNLProc/feel-it-italian-sentiment\")\n",
    "# Load the dataset\n",
    "dataset = load_dataset(\"sepidmnorozy/Maltese_sentiment\")\n",
    "train_dataset = dataset[\"train\"]\n",
    "validation_dataset = dataset[\"validation\"]\n",
    "test_dataset = dataset[\"test\"]\n",
    "# Concatenate the splits into one dataset\n",
    "maltese_data = concatenate_datasets([train_dataset, validation_dataset, test_dataset])\n",
    "df = pd.DataFrame(maltese_data)\n",
    "\n",
    "# Function to perform sentiment analysis\n",
    "def sentiment_analysis(text):\n",
    "    inputs = tokenizer(text, return_tensors=\"pt\", truncation=True, max_length=512)\n",
    "    outputs = model_it(**inputs)\n",
    "    prediction_index = torch.argmax(outputs.logits, dim=1).item()  # Index of the highest logit score\n",
    "    return prediction_index\n",
    "\n",
    "df['predicted_sentiment'] = df['text'].apply(sentiment_analysis)\n",
    "print(df)\n",
    "\n",
    "# Actual VS predicted\n",
    "from sklearn.metrics import accuracy_score\n",
    "accuracy = accuracy_score(df['label'], df['predicted_sentiment'])\n",
    "print(f\"Accuracy: {accuracy}\")\n"
   ]
  },
  {
   "cell_type": "code",
   "execution_count": 18,
   "id": "fa7658fd-9cc4-4918-a564-152466df19df",
   "metadata": {
    "execution": {
     "iopub.execute_input": "2024-03-25T16:31:28.068010Z",
     "iopub.status.busy": "2024-03-25T16:31:28.067583Z",
     "iopub.status.idle": "2024-03-25T16:31:28.075337Z",
     "shell.execute_reply": "2024-03-25T16:31:28.074458Z",
     "shell.execute_reply.started": "2024-03-25T16:31:28.067981Z"
    },
    "tags": []
   },
   "outputs": [
    {
     "name": "stdout",
     "output_type": "stream",
     "text": [
      "Actual Positive, Predicted Positive: 244\n",
      "Actual Positive, Predicted Negative: 27\n",
      "Actual Negative, Predicted Positive: 460\n",
      "Actual Negative, Predicted Negative: 120\n"
     ]
    }
   ],
   "source": [
    "# Confusion matrix calculation\n",
    "tn, fp, fn, tp = confusion_matrix(df['label'], df['predicted_sentiment']).ravel()\n",
    "\n",
    "# Printing the counts\n",
    "print(f\"Actual Positive, Predicted Positive: {tp}\")\n",
    "print(f\"Actual Positive, Predicted Negative: {fn}\")\n",
    "print(f\"Actual Negative, Predicted Positive: {fp}\")\n",
    "print(f\"Actual Negative, Predicted Negative: {tn}\")"
   ]
  },
  {
   "cell_type": "code",
   "execution_count": 19,
   "id": "bd57cc76-9a26-47df-9590-7e4c618f4e7f",
   "metadata": {
    "execution": {
     "iopub.execute_input": "2024-03-25T16:31:38.211196Z",
     "iopub.status.busy": "2024-03-25T16:31:38.210788Z",
     "iopub.status.idle": "2024-03-25T16:31:38.227672Z",
     "shell.execute_reply": "2024-03-25T16:31:38.226808Z",
     "shell.execute_reply.started": "2024-03-25T16:31:38.211169Z"
    },
    "tags": []
   },
   "outputs": [
    {
     "name": "stdout",
     "output_type": "stream",
     "text": [
      "True Positives (10 examples):\n",
      "    label                                               text  \\\n",
      "0       1  Nemmen li huwa baġit tajjeb, imma nies bħali t...   \n",
      "4       1  Naf ċert li int qegħda hemm fejn il-Mulej tkom...   \n",
      "6       1  Sewwa jgħid il-Malti - Kelb rieqed la tqajmhux...   \n",
      "8       1  Malta għandha xorti li għandna lil Alfred Sant...   \n",
      "10      1  Grazzi ta' kemm ferraħtna tul dawn il-ħamsin s...   \n",
      "14      1  Prosit tassew lil kull min ħa sehem f'din il-b...   \n",
      "26      1  Tajjeb li n-nies jagħmlu użu aħjar mit-transpo...   \n",
      "31      1  Artiklu miktub bis-sens, u sa ċertu sens apoli...   \n",
      "32      1  Nifraħhielha tas-suċċess kemm tal-Fun Run li k...   \n",
      "41      1  Il-ġenituri fil-maġġoranza tagħhom iridu lill-...   \n",
      "\n",
      "    predicted_sentiment  actual_label  \n",
      "0                     1             1  \n",
      "4                     1             1  \n",
      "6                     1             1  \n",
      "8                     1             1  \n",
      "10                    1             1  \n",
      "14                    1             1  \n",
      "26                    1             1  \n",
      "31                    1             1  \n",
      "32                    1             1  \n",
      "41                    1             1   \n",
      "\n",
      "True Negatives (10 examples):\n",
      "    label                                               text  \\\n",
      "1       0  Nippremjaw lil min ilu jikser il-liġi snin u j...   \n",
      "2       0  Xi cuc irrid jitfacca b'kritika ta' din ix-xorta.   \n",
      "15      0  Il-broadcasting tal-Parlament qata qalbu u waq...   \n",
      "27      0  Possibbli l-knisja lokali ma tħoss li għanda t...   \n",
      "35      0  I ask as I find it hard at my age to comprehen...   \n",
      "37      0  Għaliex fuq il-medja hawn ħafna tgergir kontra...   \n",
      "38      0         Teatrini għandna kieku. Serjeta xejn imma.   \n",
      "40      0  Għalfejn dan il-ħafna paroli fil-vojt li qed t...   \n",
      "46      0    Jien daqshekk ilni ma nemmen lil dan il-partit.   \n",
      "74      0  Dawn jafu li Malta daħlet fl-EU u kartell ifis...   \n",
      "\n",
      "    predicted_sentiment  actual_label  \n",
      "1                     0             0  \n",
      "2                     0             0  \n",
      "15                    0             0  \n",
      "27                    0             0  \n",
      "35                    0             0  \n",
      "37                    0             0  \n",
      "38                    0             0  \n",
      "40                    0             0  \n",
      "46                    0             0  \n",
      "74                    0             0   \n",
      "\n",
      "False Positives (10 examples):\n",
      "    label                                               text  \\\n",
      "3       0  Ms. Metzola, ara jekk Ms. Mizzi jkollhiex ċans...   \n",
      "7       0  Kull meta joħroġ il-ħama ta' żmien il-partit n...   \n",
      "9       0  Min jagħmel din il-krudelta j'Alla jesperjenza...   \n",
      "11      0  Dan kien eżempju klassiku tal-istrateġija qarr...   \n",
      "12      0  Ma sar xejn fuq il-mina bejn Għawdex u Malta, ...   \n",
      "13      0  Jiena ma ngħidx li l-kobba mħabbla... Jiena ng...   \n",
      "16      0  Kien hemm żmien meta ħafna kienu jistennew tna...   \n",
      "18      0  Il-poplu jħallas u l-gvern jissparpalja. Kulħa...   \n",
      "19      0  Naqbel assolutament ma' Mazzola. Jidher li l-g...   \n",
      "20      0  Monsinjuri li tant għalmuna nxerrdu l-paċi u l...   \n",
      "\n",
      "    predicted_sentiment  actual_label  \n",
      "3                     1             0  \n",
      "7                     1             0  \n",
      "9                     1             0  \n",
      "11                    1             0  \n",
      "12                    1             0  \n",
      "13                    1             0  \n",
      "16                    1             0  \n",
      "18                    1             0  \n",
      "19                    1             0  \n",
      "20                    1             0   \n",
      "\n",
      "False Negatives (10 examples):\n",
      "     label                                               text  \\\n",
      "5        1  Ma nemminx li min ikun ser jikkommetti reati b...   \n",
      "17       1  Grazzi lil dawn il-persuni kolla li jagħtu dan...   \n",
      "25       1  L-informazzjoni dwar il-kappelli hija tassew i...   \n",
      "76       1  Indikatur pożittiv ieħor. Prosit lil poplu Mal...   \n",
      "96       1  Kemm ilu jiggverna dejjem mexa skond id-deroga...   \n",
      "186      1  Ikolli nammetti li n-Nazzjonalisti huma onesti...   \n",
      "191      1  Saghtejn u nofs ihabbar il-gid bla ma habbar t...   \n",
      "200      1  Nieħu pjaċir li fl-aħħar qed ikun hawn min jit...   \n",
      "228      1                                  Prosit tal-ġabra.   \n",
      "250      1  Proset Profs. Dak li jridu jkunu mgharfa bih i...   \n",
      "\n",
      "     predicted_sentiment  actual_label  \n",
      "5                      0             1  \n",
      "17                     0             1  \n",
      "25                     0             1  \n",
      "76                     0             1  \n",
      "96                     0             1  \n",
      "186                    0             1  \n",
      "191                    0             1  \n",
      "200                    0             1  \n",
      "228                    0             1  \n",
      "250                    0             1   \n",
      "\n"
     ]
    }
   ],
   "source": [
    "df['actual_label'] = df['label']  # Replace 'label' with the actual column name for labels in your DataFrame\n",
    "\n",
    "# Filter for each category\n",
    "true_positives = df[(df['actual_label'] == 1) & (df['predicted_sentiment'] == 1)]\n",
    "true_negatives = df[(df['actual_label'] == 0) & (df['predicted_sentiment'] == 0)]\n",
    "false_positives = df[(df['actual_label'] == 0) & (df['predicted_sentiment'] == 1)]\n",
    "false_negatives = df[(df['actual_label'] == 1) & (df['predicted_sentiment'] == 0)]\n",
    "\n",
    "# Print 10 examples from each\n",
    "print(\"True Positives (10 examples):\")\n",
    "print(true_positives.head(10), '\\n')\n",
    "\n",
    "print(\"True Negatives (10 examples):\")\n",
    "print(true_negatives.head(10), '\\n')\n",
    "\n",
    "print(\"False Positives (10 examples):\")\n",
    "print(false_positives.head(10), '\\n')\n",
    "\n",
    "print(\"False Negatives (10 examples):\")\n",
    "print(false_negatives.head(10), '\\n')"
   ]
  },
  {
   "cell_type": "code",
   "execution_count": null,
   "id": "166bb8a4-c9ea-4c36-a23a-00b35b538df3",
   "metadata": {},
   "outputs": [],
   "source": []
  }
 ],
 "metadata": {
  "kernelspec": {
   "display_name": "saturn (Python 3)",
   "language": "python",
   "name": "python3"
  },
  "language_info": {
   "codemirror_mode": {
    "name": "ipython",
    "version": 3
   },
   "file_extension": ".py",
   "mimetype": "text/x-python",
   "name": "python",
   "nbconvert_exporter": "python",
   "pygments_lexer": "ipython3",
   "version": "3.10.13"
  }
 },
 "nbformat": 4,
 "nbformat_minor": 5
}
